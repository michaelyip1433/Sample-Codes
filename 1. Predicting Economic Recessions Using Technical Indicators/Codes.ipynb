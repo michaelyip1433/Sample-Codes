{
 "cells": [
  {
   "cell_type": "markdown",
   "metadata": {},
   "source": [
    "# Predicting Economic Recessions Using Technical Indicators\n",
    "\n",
    "This notebook contains codes for validating and training models for recession prediction. For detailed explanation of each model, please refer to the [paper](https://github.com/michaelyip1433/Sample-Codes/blob/master/1.%20Predicting%20Economic%20Recessions%20Using%20Technical%20Indicators/Writing%20Sample.pdf). Diagrams are drawn in a [seperate notebook](https://github.com/michaelyip1433/Sample-Codes/blob/master/1.%20Predicting%20Economic%20Recessions%20Using%20Technical%20Indicators/Diagrams.ipynb). We first strat with some imports."
   ]
  },
  {
   "cell_type": "code",
   "execution_count": 2,
   "metadata": {},
   "outputs": [],
   "source": [
    "import pandas as pd\n",
    "from sklearn.svm import SVC\n",
    "from sklearn.linear_model import LogisticRegression\n",
    "from sklearn.metrics import confusion_matrix\n",
    "import numpy as np\n",
    "import matplotlib.pyplot as plt\n",
    "import pickle\n",
    "import warnings\n",
    "%matplotlib inline"
   ]
  },
  {
   "cell_type": "markdown",
   "metadata": {},
   "source": [
    "### 1. Data Cleaning\n",
    "Load the dataset for the project, and convert the column \"Date\" to datetime by ```pd.to_datetime```."
   ]
  },
  {
   "cell_type": "code",
   "execution_count": 3,
   "metadata": {},
   "outputs": [],
   "source": [
    "# Remember to set the correct working directory\n",
    "data = pd.read_csv(\"/Users/cheukheiyip/Desktop/1. ML paper/Data.csv\")\n",
    "data['Date'] = pd.to_datetime(data['Date'], format = '%Y-%m-%d')"
   ]
  },
  {
   "cell_type": "markdown",
   "metadata": {},
   "source": [
    "Since the data are observed daily, the terms “month” and “quarter” have to be carefully defined. In this paper, an effective month is defined to be 21 data points, and an effective quarter is defined to be 63 data points."
   ]
  },
  {
   "cell_type": "code",
   "execution_count": 4,
   "metadata": {},
   "outputs": [],
   "source": [
    "eff_month_size = 21\n",
    "eff_quarter_size = 63"
   ]
  },
  {
   "cell_type": "markdown",
   "metadata": {},
   "source": [
    "Obtain the lagged variables as predictors, and then drop the original variables. "
   ]
  },
  {
   "cell_type": "code",
   "execution_count": 5,
   "metadata": {},
   "outputs": [],
   "source": [
    "# Spread lag\n",
    "data['Spread_lag_1Y'] = data.Spread.shift(eff_quarter_size * 4)\n",
    "\n",
    "\n",
    "# RSI lag\n",
    "\n",
    "data['NYA_RSI_100_lag_1Q'] = data.NYA_RSI_100.shift(eff_quarter_size)\n",
    "data['NYA_RSI_200_lag_1Q'] = data.NYA_RSI_200.shift(eff_quarter_size)\n",
    "data['NYA_RSI_300_lag_1Q'] = data.NYA_RSI_300.shift(eff_quarter_size)\n",
    "\n",
    "data['NYA_RSI_100_lag_2Q'] = data.NYA_RSI_100.shift(eff_quarter_size * 2)\n",
    "data['NYA_RSI_200_lag_2Q'] = data.NYA_RSI_200.shift(eff_quarter_size * 2)\n",
    "data['NYA_RSI_300_lag_2Q'] = data.NYA_RSI_300.shift(eff_quarter_size * 2)\n",
    "\n",
    "###############################\n",
    "\n",
    "data['SPX_RSI_100_lag_1Q'] = data.SPX_RSI_100.shift(eff_quarter_size)\n",
    "data['SPX_RSI_200_lag_1Q'] = data.SPX_RSI_200.shift(eff_quarter_size)\n",
    "data['SPX_RSI_300_lag_1Q'] = data.SPX_RSI_300.shift(eff_quarter_size)\n",
    "\n",
    "data['SPX_RSI_100_lag_2Q'] = data.SPX_RSI_100.shift(eff_quarter_size * 2)\n",
    "data['SPX_RSI_200_lag_2Q'] = data.SPX_RSI_200.shift(eff_quarter_size * 2)\n",
    "data['SPX_RSI_300_lag_2Q'] = data.SPX_RSI_300.shift(eff_quarter_size * 2)\n",
    "\n",
    "################################\n",
    "\n",
    "data['INDU_RSI_100_lag_1Q'] = data.INDU_RSI_100.shift(eff_quarter_size)\n",
    "data['INDU_RSI_200_lag_1Q'] = data.INDU_RSI_200.shift(eff_quarter_size)\n",
    "data['INDU_RSI_300_lag_1Q'] = data.INDU_RSI_300.shift(eff_quarter_size)\n",
    "\n",
    "data['INDU_RSI_100_lag_2Q'] = data.INDU_RSI_100.shift(eff_quarter_size * 2)\n",
    "data['INDU_RSI_200_lag_2Q'] = data.INDU_RSI_200.shift(eff_quarter_size * 2)\n",
    "data['INDU_RSI_300_lag_2Q'] = data.INDU_RSI_300.shift(eff_quarter_size * 2)\n"
   ]
  },
  {
   "cell_type": "code",
   "execution_count": 6,
   "metadata": {},
   "outputs": [],
   "source": [
    "# DMI lag\n",
    "\n",
    "data['NYA_PosDMI_100_lag_1Q'] = data.NYA_PosDMI_100.shift(eff_quarter_size)\n",
    "data['NYA_NegDMI_100_lag_1Q'] = data.NYA_NegDMI_100.shift(eff_quarter_size)\n",
    "data['NYA_Trend_100_lag_1Q'] = data.NYA_Trend_100.shift(eff_quarter_size)\n",
    "data['NYA_PosDMI_200_lag_1Q'] = data.NYA_PosDMI_200.shift(eff_quarter_size)\n",
    "data['NYA_NegDMI_200_lag_1Q'] = data.NYA_NegDMI_200.shift(eff_quarter_size)\n",
    "data['NYA_Trend_200_lag_1Q'] = data.NYA_Trend_200.shift(eff_quarter_size)\n",
    "data['NYA_PosDMI_300_lag_1Q'] = data.NYA_PosDMI_300.shift(eff_quarter_size)\n",
    "data['NYA_NegDMI_300_lag_1Q'] = data.NYA_NegDMI_300.shift(eff_quarter_size)\n",
    "data['NYA_Trend_300_lag_1Q'] = data.NYA_Trend_300.shift(eff_quarter_size)\n",
    "\n",
    "data['NYA_PosDMI_100_lag_2Q'] = data.NYA_PosDMI_100.shift(eff_quarter_size * 2)\n",
    "data['NYA_NegDMI_100_lag_2Q'] = data.NYA_NegDMI_100.shift(eff_quarter_size * 2)\n",
    "data['NYA_Trend_100_lag_2Q'] = data.NYA_Trend_100.shift(eff_quarter_size * 2)\n",
    "data['NYA_PosDMI_200_lag_2Q'] = data.NYA_PosDMI_200.shift(eff_quarter_size * 2)\n",
    "data['NYA_NegDMI_200_lag_2Q'] = data.NYA_NegDMI_200.shift(eff_quarter_size * 2)\n",
    "data['NYA_Trend_200_lag_2Q'] = data.NYA_Trend_200.shift(eff_quarter_size * 2)\n",
    "data['NYA_PosDMI_300_lag_2Q'] = data.NYA_PosDMI_300.shift(eff_quarter_size * 2)\n",
    "data['NYA_NegDMI_300_lag_2Q'] = data.NYA_NegDMI_300.shift(eff_quarter_size * 2)\n",
    "data['NYA_Trend_300_lag_2Q'] = data.NYA_Trend_300.shift(eff_quarter_size * 2)\n",
    "\n",
    "############################\n",
    "\n",
    "data['SPX_PosDMI_100_lag_1Q'] = data.SPX_PosDMI_100.shift(eff_quarter_size)\n",
    "data['SPX_NegDMI_100_lag_1Q'] = data.SPX_NegDMI_100.shift(eff_quarter_size)\n",
    "data['SPX_Trend_100_lag_1Q'] = data.SPX_Trend_100.shift(eff_quarter_size)\n",
    "data['SPX_PosDMI_200_lag_1Q'] = data.SPX_PosDMI_200.shift(eff_quarter_size)\n",
    "data['SPX_NegDMI_200_lag_1Q'] = data.SPX_NegDMI_200.shift(eff_quarter_size)\n",
    "data['SPX_Trend_200_lag_1Q'] = data.SPX_Trend_200.shift(eff_quarter_size)\n",
    "data['SPX_PosDMI_300_lag_1Q'] = data.SPX_PosDMI_300.shift(eff_quarter_size)\n",
    "data['SPX_NegDMI_300_lag_1Q'] = data.SPX_NegDMI_300.shift(eff_quarter_size)\n",
    "data['SPX_Trend_300_lag_1Q'] = data.SPX_Trend_300.shift(eff_quarter_size)\n",
    "\n",
    "data['SPX_PosDMI_100_lag_2Q'] = data.SPX_PosDMI_100.shift(eff_quarter_size * 2)\n",
    "data['SPX_NegDMI_100_lag_2Q'] = data.SPX_NegDMI_100.shift(eff_quarter_size * 2)\n",
    "data['SPX_Trend_100_lag_2Q'] = data.SPX_Trend_100.shift(eff_quarter_size * 2)\n",
    "data['SPX_PosDMI_200_lag_2Q'] = data.SPX_PosDMI_200.shift(eff_quarter_size * 2)\n",
    "data['SPX_NegDMI_200_lag_2Q'] = data.SPX_NegDMI_200.shift(eff_quarter_size * 2)\n",
    "data['SPX_Trend_200_lag_2Q'] = data.SPX_Trend_200.shift(eff_quarter_size * 2)\n",
    "data['SPX_PosDMI_300_lag_2Q'] = data.SPX_PosDMI_300.shift(eff_quarter_size * 2)\n",
    "data['SPX_NegDMI_300_lag_2Q'] = data.SPX_NegDMI_300.shift(eff_quarter_size * 2)\n",
    "data['SPX_Trend_300_lag_2Q'] = data.SPX_Trend_300.shift(eff_quarter_size * 2)\n",
    "\n",
    "############################\n",
    "\n",
    "data['INDU_PosDMI_100_lag_1Q'] = data.INDU_PosDMI_100.shift(eff_quarter_size)\n",
    "data['INDU_NegDMI_100_lag_1Q'] = data.INDU_NegDMI_100.shift(eff_quarter_size)\n",
    "data['INDU_Trend_100_lag_1Q'] = data.INDU_Trend_100.shift(eff_quarter_size)\n",
    "data['INDU_PosDMI_200_lag_1Q'] = data.INDU_PosDMI_200.shift(eff_quarter_size)\n",
    "data['INDU_NegDMI_200_lag_1Q'] = data.INDU_NegDMI_200.shift(eff_quarter_size)\n",
    "data['INDU_Trend_200_lag_1Q'] = data.INDU_Trend_200.shift(eff_quarter_size)\n",
    "data['INDU_PosDMI_300_lag_1Q'] = data.INDU_PosDMI_300.shift(eff_quarter_size)\n",
    "data['INDU_NegDMI_300_lag_1Q'] = data.INDU_NegDMI_300.shift(eff_quarter_size)\n",
    "data['INDU_Trend_300_lag_1Q'] = data.INDU_Trend_300.shift(eff_quarter_size)\n",
    "\n",
    "\n",
    "data['INDU_PosDMI_100_lag_2Q'] = data.INDU_PosDMI_100.shift(eff_quarter_size * 2)\n",
    "data['INDU_NegDMI_100_lag_2Q'] = data.INDU_NegDMI_100.shift(eff_quarter_size * 2)\n",
    "data['INDU_Trend_100_lag_2Q'] = data.INDU_Trend_100.shift(eff_quarter_size * 2)\n",
    "data['INDU_PosDMI_200_lag_2Q'] = data.INDU_PosDMI_200.shift(eff_quarter_size * 2)\n",
    "data['INDU_NegDMI_200_lag_2Q'] = data.INDU_NegDMI_200.shift(eff_quarter_size * 2)\n",
    "data['INDU_Trend_200_lag_2Q'] = data.INDU_Trend_200.shift(eff_quarter_size * 2)\n",
    "data['INDU_PosDMI_300_lag_2Q'] = data.INDU_PosDMI_300.shift(eff_quarter_size * 2)\n",
    "data['INDU_NegDMI_300_lag_2Q'] = data.INDU_NegDMI_300.shift(eff_quarter_size * 2)\n",
    "data['INDU_Trend_300_lag_2Q'] = data.INDU_Trend_300.shift(eff_quarter_size * 2)"
   ]
  },
  {
   "cell_type": "code",
   "execution_count": 7,
   "metadata": {},
   "outputs": [],
   "source": [
    "data = data.drop(['SPX_RSI_100', 'SPX_RSI_200', 'SPX_RSI_300',\n",
    "       'SPX_PosDMI_100', 'SPX_NegDMI_100', 'SPX_Trend_100',\n",
    "       'SPX_PosDMI_200', 'SPX_NegDMI_200', 'SPX_Trend_200',\n",
    "       'SPX_PosDMI_300', 'SPX_NegDMI_300', 'SPX_Trend_300',\n",
    "       'SPX_K_100_50', 'SPX_D_100_50_50', 'SPX_K_200_100',\n",
    "       'SPX_D_200_100_50', 'SPX_K_300_200', 'SPX_D_300_200_200',\n",
    "       'NYA_RSI_100', 'NYA_RSI_200', 'NYA_RSI_300', 'NYA_PosDMI_100',\n",
    "       'NYA_NegDMI_100', 'NYA_Trend_100', 'NYA_PosDMI_200',\n",
    "       'NYA_NegDMI_200', 'NYA_Trend_200', 'NYA_PosDMI_300',\n",
    "       'NYA_NegDMI_300', 'NYA_Trend_300', 'NYA_K_100_50',\n",
    "       'NYA_D_100_50_50', 'NYA_K_200_100', 'NYA_D_200_100_50',\n",
    "       'NYA_K_300_200', 'NYA_D_300_200_200', 'INDU_RSI_100',\n",
    "       'INDU_RSI_200', 'INDU_RSI_300', 'INDU_PosDMI_100',\n",
    "       'INDU_NegDMI_100', 'INDU_Trend_100', 'INDU_PosDMI_200',\n",
    "       'INDU_NegDMI_200', 'INDU_Trend_200', 'INDU_PosDMI_300',\n",
    "       'INDU_NegDMI_300', 'INDU_Trend_300', 'INDU_K_100_50',\n",
    "       'INDU_D_100_50_50', 'INDU_K_200_100', 'INDU_D_200_100_50',\n",
    "       'INDU_K_300_200', 'INDU_D_300_200_200', 'Spread'],axis=1)"
   ]
  },
  {
   "cell_type": "markdown",
   "metadata": {},
   "source": [
    "Standardise predictors to enhance performance. "
   ]
  },
  {
   "cell_type": "code",
   "execution_count": 8,
   "metadata": {},
   "outputs": [],
   "source": [
    "#Standardise predictors\n",
    "for i in range (2,75):\n",
    "    data.iloc[:,i] = (data.iloc[:,i] - data.iloc[:,i].mean())/data.iloc[:,i].std()"
   ]
  },
  {
   "cell_type": "markdown",
   "metadata": {},
   "source": [
    "### 2. Preparation for Model Evaluation and Training\n",
    "\n",
    "Here we define some functions to evaluate and train models so that we can do it efficiently for different sets of predictors. \n",
    "\n",
    "#### Model Evaluation"
   ]
  },
  {
   "cell_type": "code",
   "execution_count": 9,
   "metadata": {},
   "outputs": [],
   "source": [
    "def model_evaluation(y_true,y_predict, full_result = False):\n",
    "    M = confusion_matrix(y_true,y_predict)\n",
    "    accruacy = (M[0,0]+M[1,1])/np.sum(M)\n",
    "    precision = M[1,1]/np.sum(M[:,1])\n",
    "    recall = M[1,1]/np.sum(M[1])\n",
    "    f1 = (2*recall*precision)/(recall+precision)\n",
    "    \n",
    "    # Hide the full results if only the F1 score is needed\n",
    "    if full_result == True:\n",
    "        print('Accuracy =', accruacy)\n",
    "        print('Precision =', precision)\n",
    "        print('Recall =', recall)\n",
    "        print('F1 =', f1)\n",
    "        \n",
    "    return f1"
   ]
  },
  {
   "cell_type": "markdown",
   "metadata": {},
   "source": [
    "#### Type A and Type B Models\n",
    "\n",
    "Type A and type B models are trained together by the function ```f```. Note that data points with missing values are dropped only after the boundary of the training set, the validation set and the out-of-sample set are defined in each period.  This is to ensure that all these sets are defined accroding to the defination of effective month and quarter, without being affected by missing values. That is, to make sure we are really predicting one or two  effective quarters ahead. "
   ]
  },
  {
   "cell_type": "code",
   "execution_count": 10,
   "metadata": {},
   "outputs": [],
   "source": [
    "def f(predictor,horizon, single_predictor = False):\n",
    "    \n",
    "    warnings.filterwarnings('ignore')\n",
    "    first_prediction = 7701  # Data point 7701 is the first data point in year 2000\n",
    "    \n",
    "    # Number of data points we actually observe when making prediction\n",
    "    in_sample_size = first_prediction - eff_quarter_size * horizon  \n",
    "    # Number of data points for validation (before removing data points with missing values)\n",
    "    valid_num = eff_quarter_size * 4 * 12  \n",
    "    \n",
    "\n",
    "    data_test = data[first_prediction:].dropna(0,\"any\")\n",
    "    y_test_A = data_test['Recession']\n",
    "    y_test_B = np.empty(0)\n",
    "\n",
    "    prediction_svm_A = np.empty(0)\n",
    "    prediction_svm_B = np.empty(0)\n",
    "    \n",
    "    # Prepare the series of time for plotting graphs\n",
    "    date_A = data[first_prediction:].dropna(0,\"any\")['Date']\n",
    "    date_B = np.empty(0)         \n",
    "\n",
    "    # The set of hyperparameters for validation\n",
    "    C_list = [0.01,0.05,0.1,0.2,0.4,0.6,0.8,1,10]\n",
    "\n",
    "    while first_prediction <= data.index[-1]:\n",
    "    \n",
    "        #Data for training model\n",
    "        data_in = data[:in_sample_size - valid_num].dropna(0,\"any\")\n",
    "\n",
    "        y_in = data_in['Recession']\n",
    "        \n",
    "        if single_predictor == False:\n",
    "            x_in = data_in[predictor]\n",
    "        \n",
    "        if single_predictor == True:\n",
    "            x_in = data_in[predictor].values.reshape(-1, 1)\n",
    "    \n",
    "        #Data for validation\n",
    "        data_valid = data[in_sample_size - valid_num : in_sample_size].dropna(0,\"any\")\n",
    "        \n",
    "        y_valid = data_valid['Recession']\n",
    "        \n",
    "        if single_predictor == False:\n",
    "            x_valid = data_valid[predictor]\n",
    "    \n",
    "        if single_predictor == True:\n",
    "            x_valid = data_valid[predictor].values.reshape(-1, 1)\n",
    "    \n",
    "    \n",
    "        #Data for prediction\n",
    "        data_out = data[first_prediction: first_prediction + eff_quarter_size].dropna(0,\"any\")\n",
    "    \n",
    "        date_B = np.append(date_B,list(data_out['Date'])[0])\n",
    "        y_out = data_out['Recession']\n",
    "        \n",
    "        if single_predictor == False:\n",
    "            x_out = data_out[predictor]\n",
    "        \n",
    "        if single_predictor == True:\n",
    "            x_out = data_out[predictor].values.reshape(-1, 1)\n",
    "    \n",
    "    \n",
    "        #Validation\n",
    "        best_c = None\n",
    "        best_f1 = 0\n",
    "        for c in C_list:\n",
    "            svm = SVC(probability=True,C = c, gamma = 'auto')\n",
    "            svm.fit(x_in,y_in)\n",
    "            f1 = model_evaluation(y_valid,svm.predict(x_valid))\n",
    "        \n",
    "            if f1 > best_f1:\n",
    "                best_f1 = f1\n",
    "                best_c = c\n",
    "\n",
    "        #Fit model and predict\n",
    "        svm = SVC(probability = True,C = best_c, gamma = 'auto')\n",
    "        svm.fit(x_in,y_in)\n",
    "        \n",
    "        prediction_svm_A = np.append(prediction_svm_A,svm.predict(x_out))\n",
    "    \n",
    "        if np.mean(svm.predict(x_out)) >= 0.5:\n",
    "            prediction_svm_B = np.append(prediction_svm_B,1)\n",
    "    \n",
    "        else:\n",
    "            prediction_svm_B = np.append(prediction_svm_B,0)\n",
    "    \n",
    "        if np.mean(y_out) >= 0.5:\n",
    "            y_test_B = np.append(y_test_B,1)\n",
    "    \n",
    "        else:\n",
    "            y_test_B = np.append(y_test_B,0)\n",
    "\n",
    "        #Update period\n",
    "        first_prediction = first_prediction + eff_quarter_size\n",
    "        in_sample_size = first_prediction - eff_quarter_size * horizon\n",
    "        \n",
    "    return prediction_svm_A, prediction_svm_B, y_test_A, y_test_B, date_A, date_B"
   ]
  },
  {
   "cell_type": "markdown",
   "metadata": {},
   "source": [
    "#### Type C model \n",
    "\n",
    "Type C model is trainied seperately by the function ```g```. The model updated (retrained) each effective month. "
   ]
  },
  {
   "cell_type": "code",
   "execution_count": 11,
   "metadata": {},
   "outputs": [],
   "source": [
    "def g(predictor, horizon, single_predictor = False):\n",
    "    \n",
    "    warnings.filterwarnings('ignore') \n",
    "    first_prediction = 7701  # Data point 7701 is the first data point in year 2000\n",
    "    \n",
    "    # Number of data points we actually observe when making prediction\n",
    "    in_sample_size = first_prediction - eff_quarter_size * horizon  \n",
    "    # Number of data points for validation (before removing data points with missing values)\n",
    "    valid_num = eff_quarter_size * 4 * 12  \n",
    "\n",
    "    y_test_C = np.empty(0)\n",
    "    prediction_svm_C = np.empty(0)\n",
    "    \n",
    "    # Prepare the series of time for plotting graphs\n",
    "    date_C = np.empty(0)\n",
    "\n",
    "    \n",
    "    # The set of hyperparameters for validation\n",
    "    C_list = [0.01,0.05,0.1,0.2,0.4,0.6,0.8,1,10]\n",
    "\n",
    "    while first_prediction <= data.index[-1]:\n",
    "    \n",
    "        #Data for training model\n",
    "        data_in = data[:in_sample_size - valid_num].dropna(0,\"any\")\n",
    "\n",
    "        y_in = data_in['Recession']\n",
    "        \n",
    "        if single_predictor == False:\n",
    "            x_in = data_in[predictor]\n",
    "            \n",
    "        if single_predictor == True:\n",
    "            x_in = data_in[predictor].values.reshape(-1, 1)\n",
    "    \n",
    "        #Data for validation\n",
    "    \n",
    "        data_valid = data[in_sample_size - valid_num : in_sample_size].dropna(0,\"any\")\n",
    "\n",
    "        y_valid = data_valid['Recession']\n",
    "        \n",
    "        if single_predictor == False:\n",
    "            x_valid = data_valid[predictor]\n",
    "        \n",
    "        if single_predictor == True:\n",
    "            x_valid = data_valid[predictor].values.reshape(-1, 1)\n",
    "    \n",
    "    \n",
    "        #Data for prediction\n",
    "        data_out = data[first_prediction: first_prediction + eff_month_size].dropna(0,\"any\")\n",
    "    \n",
    "        date_C = np.append(date_C,list(data_out['Date'])[0])\n",
    "        y_out = data_out['Recession']\n",
    "        \n",
    "        if single_predictor == False:\n",
    "            x_out = data_out[predictor]\n",
    "            \n",
    "        if single_predictor == True:\n",
    "            x_out = data_out[predictor].values.reshape(-1, 1)        \n",
    "\n",
    "    \n",
    "        #Validation\n",
    "        best_c = None\n",
    "        best_f1 = 0\n",
    "        for c in C_list:\n",
    "            svm = SVC(probability=True,C = c, gamma = 'auto')\n",
    "            svm.fit(x_in,y_in)\n",
    "            f1 = model_evaluation(y_valid,svm.predict(x_valid))\n",
    "        \n",
    "            if f1 > best_f1:\n",
    "                best_f1 = f1\n",
    "                best_c = c\n",
    "            \n",
    "        #Fit model and predict\n",
    "        svm = SVC(probability=True,C = best_c, gamma = 'auto')\n",
    "        svm.fit(x_in,y_in)\n",
    "    \n",
    "        if np.mean(svm.predict(x_out)) >= 0.5:\n",
    "            prediction_svm_C = np.append(prediction_svm_C,1)\n",
    "    \n",
    "        else:\n",
    "            prediction_svm_C = np.append(prediction_svm_C,0)\n",
    "    \n",
    "        if np.mean(y_out) >= 0.5:\n",
    "            y_test_C = np.append(y_test_C,1)\n",
    "    \n",
    "        else:\n",
    "            y_test_C = np.append(y_test_C,0)\n",
    "\n",
    "        #Update period\n",
    "        first_prediction = first_prediction + eff_month_size\n",
    "        in_sample_size = first_prediction - eff_quarter_size * horizon\n",
    "        \n",
    "    return prediction_svm_C, y_test_C, date_C"
   ]
  },
  {
   "cell_type": "markdown",
   "metadata": {},
   "source": [
    "### 3. Model Evaluation and Training\n",
    "\n",
    "We train models with different set of predictors one by one. The results are then saved in pickles as dictionaries so that we do not need to train again after closing the notebook. \n",
    "\n",
    "#### Baseline Model"
   ]
  },
  {
   "cell_type": "code",
   "execution_count": 12,
   "metadata": {
    "scrolled": true
   },
   "outputs": [],
   "source": [
    "prediction_svm_A, prediction_svm_B, y_test_A, y_test_B, date_A, date_B = f('Spread_lag_1Y', 4, True)"
   ]
  },
  {
   "cell_type": "code",
   "execution_count": 13,
   "metadata": {},
   "outputs": [
    {
     "name": "stdout",
     "output_type": "stream",
     "text": [
      "Accuracy = 0.8881260096930533\n",
      "Precision = 0.5120967741935484\n",
      "Recall = 0.44876325088339225\n",
      "F1 = 0.47834274952919026\n"
     ]
    },
    {
     "data": {
      "text/plain": [
       "0.47834274952919026"
      ]
     },
     "execution_count": 13,
     "metadata": {},
     "output_type": "execute_result"
    }
   ],
   "source": [
    "model_evaluation(y_test_A,prediction_svm_A,True) # Performance of Type A model"
   ]
  },
  {
   "cell_type": "code",
   "execution_count": 14,
   "metadata": {},
   "outputs": [
    {
     "name": "stdout",
     "output_type": "stream",
     "text": [
      "Accuracy = 0.9113924050632911\n",
      "Precision = 0.625\n",
      "Recall = 0.5555555555555556\n",
      "F1 = 0.5882352941176471\n"
     ]
    },
    {
     "data": {
      "text/plain": [
       "0.5882352941176471"
      ]
     },
     "execution_count": 14,
     "metadata": {},
     "output_type": "execute_result"
    }
   ],
   "source": [
    "model_evaluation(y_test_B,prediction_svm_B,True) # Performance of Type B model"
   ]
  },
  {
   "cell_type": "code",
   "execution_count": 20,
   "metadata": {},
   "outputs": [],
   "source": [
    "# Save the results in a dictionary for easier reference\n",
    "baseline_A_B = {'prediction_A':prediction_svm_A, 'prediction_B':prediction_svm_B, \n",
    "                'actual_A':y_test_A, 'actual_B':y_test_B, 'date_A':date_A, 'date_B':date_B}"
   ]
  },
  {
   "cell_type": "code",
   "execution_count": 21,
   "metadata": {},
   "outputs": [],
   "source": [
    "# Save the dictionary into a pickle\n",
    "with open('Baseline_A_B.pickle', 'wb') as file:\n",
    "    pickle.dump(baseline_A_B, file)"
   ]
  },
  {
   "cell_type": "code",
   "execution_count": 25,
   "metadata": {},
   "outputs": [],
   "source": [
    "prediction_svm_C, y_test_C, date_C = g('Spread_lag_1Y', 4, True)"
   ]
  },
  {
   "cell_type": "code",
   "execution_count": 26,
   "metadata": {},
   "outputs": [
    {
     "name": "stdout",
     "output_type": "stream",
     "text": [
      "Accuracy = 0.8940677966101694\n",
      "Precision = 0.5652173913043478\n",
      "Recall = 0.4642857142857143\n",
      "F1 = 0.5098039215686274\n"
     ]
    },
    {
     "data": {
      "text/plain": [
       "0.5098039215686274"
      ]
     },
     "execution_count": 26,
     "metadata": {},
     "output_type": "execute_result"
    }
   ],
   "source": [
    "model_evaluation(y_test_C,prediction_svm_C,True) # Performance of Type C model"
   ]
  },
  {
   "cell_type": "code",
   "execution_count": 28,
   "metadata": {},
   "outputs": [],
   "source": [
    "# Another dictionary for Type C model\n",
    "baseline_C = {'prediction_C':prediction_svm_C,'actual_C':y_test_C, 'date_C':date_C}"
   ]
  },
  {
   "cell_type": "code",
   "execution_count": 29,
   "metadata": {},
   "outputs": [],
   "source": [
    "with open('Baseline_C.pickle', 'wb') as file:\n",
    "    pickle.dump(baseline_C, file)"
   ]
  },
  {
   "cell_type": "markdown",
   "metadata": {},
   "source": [
    "#### Yield Spread (-4Q), RSI (-2Q)"
   ]
  },
  {
   "cell_type": "code",
   "execution_count": 126,
   "metadata": {},
   "outputs": [],
   "source": [
    "prediction_svm_A, prediction_svm_B, y_test_A, y_test_B, date_A, date_B = f([\n",
    "    'Spread_lag_1Y','NYA_RSI_100_lag_2Q','NYA_RSI_200_lag_2Q','NYA_RSI_300_lag_2Q',\n",
    "    'SPX_RSI_100_lag_2Q','SPX_RSI_200_lag_2Q','SPX_RSI_300_lag_2Q','INDU_RSI_100_lag_2Q',\n",
    "    'INDU_RSI_200_lag_2Q','INDU_RSI_300_lag_2Q'], 2)"
   ]
  },
  {
   "cell_type": "code",
   "execution_count": 127,
   "metadata": {},
   "outputs": [
    {
     "name": "stdout",
     "output_type": "stream",
     "text": [
      "Accuracy = 0.9111470113085622\n",
      "Precision = 0.6060606060606061\n",
      "Recall = 0.6360424028268551\n",
      "F1 = 0.6206896551724138\n"
     ]
    },
    {
     "data": {
      "text/plain": [
       "0.6206896551724138"
      ]
     },
     "execution_count": 127,
     "metadata": {},
     "output_type": "execute_result"
    }
   ],
   "source": [
    "model_evaluation(y_test_A,prediction_svm_A,True)"
   ]
  },
  {
   "cell_type": "code",
   "execution_count": 128,
   "metadata": {},
   "outputs": [
    {
     "name": "stdout",
     "output_type": "stream",
     "text": [
      "Accuracy = 0.9240506329113924\n",
      "Precision = 0.6363636363636364\n",
      "Recall = 0.7777777777777778\n",
      "F1 = 0.7000000000000001\n"
     ]
    },
    {
     "data": {
      "text/plain": [
       "0.7000000000000001"
      ]
     },
     "execution_count": 128,
     "metadata": {},
     "output_type": "execute_result"
    }
   ],
   "source": [
    "model_evaluation(y_test_B,prediction_svm_B,True)"
   ]
  },
  {
   "cell_type": "code",
   "execution_count": 33,
   "metadata": {},
   "outputs": [],
   "source": [
    "RSI_2_A_B = {'prediction_A':prediction_svm_A, 'prediction_B':prediction_svm_B, \n",
    "             'actual_A':y_test_A, 'actual_B':y_test_B, 'date_A':date_A, 'date_B':date_B}"
   ]
  },
  {
   "cell_type": "code",
   "execution_count": 34,
   "metadata": {},
   "outputs": [],
   "source": [
    "with open('RSI(-2Q)_A_B.pickle', 'wb') as file:\n",
    "    pickle.dump(RSI_2_A_B, file)"
   ]
  },
  {
   "cell_type": "code",
   "execution_count": 95,
   "metadata": {},
   "outputs": [],
   "source": [
    "prediction_svm_C, y_test_C, date_C = g([\n",
    "    'Spread_lag_1Y','NYA_RSI_100_lag_2Q','NYA_RSI_200_lag_2Q','NYA_RSI_300_lag_2Q',\n",
    "    'SPX_RSI_100_lag_2Q','SPX_RSI_200_lag_2Q','SPX_RSI_300_lag_2Q','INDU_RSI_100_lag_2Q',\n",
    "    'INDU_RSI_200_lag_2Q','INDU_RSI_300_lag_2Q'], 2)"
   ]
  },
  {
   "cell_type": "code",
   "execution_count": 96,
   "metadata": {},
   "outputs": [
    {
     "name": "stdout",
     "output_type": "stream",
     "text": [
      "Accuracy = 0.9152542372881356\n",
      "Precision = 0.6428571428571429\n",
      "Recall = 0.6428571428571429\n",
      "F1 = 0.6428571428571429\n"
     ]
    },
    {
     "data": {
      "text/plain": [
       "0.6428571428571429"
      ]
     },
     "execution_count": 96,
     "metadata": {},
     "output_type": "execute_result"
    }
   ],
   "source": [
    "model_evaluation(y_test_C,prediction_svm_C,True)"
   ]
  },
  {
   "cell_type": "code",
   "execution_count": 37,
   "metadata": {},
   "outputs": [],
   "source": [
    "RSI_2_C = {'prediction_C':prediction_svm_C,'actual_C':y_test_C, 'date_C':date_C}"
   ]
  },
  {
   "cell_type": "code",
   "execution_count": 38,
   "metadata": {},
   "outputs": [],
   "source": [
    "with open('RSI(-2Q)_C.pickle', 'wb') as file:\n",
    "    pickle.dump(RSI_2_C, file)"
   ]
  },
  {
   "cell_type": "markdown",
   "metadata": {},
   "source": [
    "#### Yield Spread (-4Q), DMI (-2Q)"
   ]
  },
  {
   "cell_type": "code",
   "execution_count": 16,
   "metadata": {
    "scrolled": true
   },
   "outputs": [],
   "source": [
    "prediction_svm_A, prediction_svm_B, y_test_A, y_test_B, date_A, date_B = f([\n",
    "    'Spread_lag_1Y','NYA_PosDMI_100_lag_2Q','NYA_NegDMI_100_lag_2Q','NYA_Trend_100_lag_2Q',\n",
    "    'NYA_PosDMI_200_lag_2Q','NYA_NegDMI_200_lag_2Q','NYA_Trend_200_lag_2Q',\n",
    "    'NYA_PosDMI_300_lag_2Q','NYA_NegDMI_300_lag_2Q','NYA_Trend_300_lag_2Q',\n",
    "    'SPX_PosDMI_100_lag_2Q','SPX_NegDMI_100_lag_2Q','SPX_Trend_100_lag_2Q',\n",
    "    'SPX_PosDMI_200_lag_2Q','SPX_NegDMI_200_lag_2Q','SPX_Trend_200_lag_2Q',\n",
    "    'SPX_PosDMI_300_lag_2Q','SPX_NegDMI_300_lag_2Q','SPX_Trend_300_lag_2Q',\n",
    "    'INDU_PosDMI_100_lag_2Q','INDU_NegDMI_100_lag_2Q','INDU_Trend_100_lag_2Q',\n",
    "    'INDU_PosDMI_200_lag_2Q','INDU_NegDMI_200_lag_2Q','INDU_Trend_200_lag_2Q',\n",
    "    'INDU_PosDMI_300_lag_2Q','INDU_NegDMI_300_lag_2Q','INDU_Trend_300_lag_2Q'], 2)"
   ]
  },
  {
   "cell_type": "code",
   "execution_count": 17,
   "metadata": {},
   "outputs": [
    {
     "name": "stdout",
     "output_type": "stream",
     "text": [
      "Accuracy = 0.8974151857835219\n",
      "Precision = 0.5573122529644269\n",
      "Recall = 0.49823321554770317\n",
      "F1 = 0.5261194029850746\n"
     ]
    },
    {
     "data": {
      "text/plain": [
       "0.5261194029850746"
      ]
     },
     "execution_count": 17,
     "metadata": {},
     "output_type": "execute_result"
    }
   ],
   "source": [
    "model_evaluation(y_test_A,prediction_svm_A,True)"
   ]
  },
  {
   "cell_type": "code",
   "execution_count": 18,
   "metadata": {},
   "outputs": [
    {
     "name": "stdout",
     "output_type": "stream",
     "text": [
      "Accuracy = 0.8987341772151899\n",
      "Precision = 0.5714285714285714\n",
      "Recall = 0.4444444444444444\n",
      "F1 = 0.5\n"
     ]
    },
    {
     "data": {
      "text/plain": [
       "0.5"
      ]
     },
     "execution_count": 18,
     "metadata": {},
     "output_type": "execute_result"
    }
   ],
   "source": [
    "model_evaluation(y_test_B,prediction_svm_B,True)"
   ]
  },
  {
   "cell_type": "code",
   "execution_count": 41,
   "metadata": {},
   "outputs": [],
   "source": [
    "DMI_2_A_B = {'prediction_A':prediction_svm_A, 'prediction_B':prediction_svm_B, \n",
    "             'actual_A':y_test_A, 'actual_B':y_test_B, 'date_A':date_A, 'date_B':date_B}"
   ]
  },
  {
   "cell_type": "code",
   "execution_count": 42,
   "metadata": {},
   "outputs": [],
   "source": [
    "with open('DMI(-2Q)_A_B.pickle', 'wb') as file:\n",
    "    pickle.dump(DMI_2_A_B, file)"
   ]
  },
  {
   "cell_type": "code",
   "execution_count": 100,
   "metadata": {},
   "outputs": [],
   "source": [
    "prediction_svm_C, y_test_C, date_C = g(['Spread_lag_1Y',\n",
    "                'NYA_PosDMI_100_lag_2Q','NYA_NegDMI_100_lag_2Q','NYA_Trend_100_lag_2Q',\n",
    "                'NYA_PosDMI_200_lag_2Q','NYA_NegDMI_200_lag_2Q','NYA_Trend_200_lag_2Q',\n",
    "                'NYA_PosDMI_300_lag_2Q','NYA_NegDMI_300_lag_2Q','NYA_Trend_300_lag_2Q',\n",
    "                'SPX_PosDMI_100_lag_2Q','SPX_NegDMI_100_lag_2Q','SPX_Trend_100_lag_2Q',\n",
    "                'SPX_PosDMI_200_lag_2Q','SPX_NegDMI_200_lag_2Q','SPX_Trend_200_lag_2Q',\n",
    "                'SPX_PosDMI_300_lag_2Q','SPX_NegDMI_300_lag_2Q','SPX_Trend_300_lag_2Q',\n",
    "                'INDU_PosDMI_100_lag_2Q','INDU_NegDMI_100_lag_2Q','INDU_Trend_100_lag_2Q',\n",
    "                'INDU_PosDMI_200_lag_2Q','INDU_NegDMI_200_lag_2Q','INDU_Trend_200_lag_2Q',\n",
    "                'INDU_PosDMI_300_lag_2Q','INDU_NegDMI_300_lag_2Q','INDU_Trend_300_lag_2Q'], 2)"
   ]
  },
  {
   "cell_type": "code",
   "execution_count": 101,
   "metadata": {},
   "outputs": [
    {
     "name": "stdout",
     "output_type": "stream",
     "text": [
      "Accuracy = 0.9067796610169492\n",
      "Precision = 0.625\n",
      "Recall = 0.5357142857142857\n",
      "F1 = 0.576923076923077\n"
     ]
    },
    {
     "data": {
      "text/plain": [
       "0.576923076923077"
      ]
     },
     "execution_count": 101,
     "metadata": {},
     "output_type": "execute_result"
    }
   ],
   "source": [
    "model_evaluation(y_test_C,prediction_svm_C,True)"
   ]
  },
  {
   "cell_type": "code",
   "execution_count": 45,
   "metadata": {},
   "outputs": [],
   "source": [
    "DMI_2_C = {'prediction_C':prediction_svm_C,'actual_C':y_test_C, 'date_C':date_C}"
   ]
  },
  {
   "cell_type": "code",
   "execution_count": 46,
   "metadata": {},
   "outputs": [],
   "source": [
    "with open('DMI(-2Q)_C.pickle', 'wb') as file:\n",
    "    pickle.dump(DMI_2_C, file)"
   ]
  },
  {
   "cell_type": "markdown",
   "metadata": {},
   "source": [
    "#### Yield Spread (-4Q), RSI (-2Q), DMI (-2Q)"
   ]
  },
  {
   "cell_type": "code",
   "execution_count": 22,
   "metadata": {},
   "outputs": [],
   "source": [
    "prediction_svm_A, prediction_svm_B, y_test_A, y_test_B, date_A, date_B = f([\n",
    "    'Spread_lag_1Y','NYA_RSI_100_lag_2Q','NYA_RSI_200_lag_2Q','NYA_RSI_300_lag_2Q',\n",
    "    'SPX_RSI_100_lag_2Q','SPX_RSI_200_lag_2Q','SPX_RSI_300_lag_2Q','INDU_RSI_100_lag_2Q',\n",
    "    'INDU_RSI_200_lag_2Q','INDU_RSI_300_lag_2Q','NYA_PosDMI_100_lag_2Q',\n",
    "    'NYA_NegDMI_100_lag_2Q','NYA_Trend_100_lag_2Q','NYA_PosDMI_200_lag_2Q',\n",
    "    'NYA_NegDMI_200_lag_2Q','NYA_Trend_200_lag_2Q','NYA_PosDMI_300_lag_2Q',\n",
    "    'NYA_NegDMI_300_lag_2Q','NYA_Trend_300_lag_2Q','SPX_PosDMI_100_lag_2Q',\n",
    "    'SPX_NegDMI_100_lag_2Q','SPX_Trend_100_lag_2Q','SPX_PosDMI_200_lag_2Q',\n",
    "    'SPX_NegDMI_200_lag_2Q','SPX_Trend_200_lag_2Q','SPX_PosDMI_300_lag_2Q',\n",
    "    'SPX_NegDMI_300_lag_2Q','SPX_Trend_300_lag_2Q','INDU_PosDMI_100_lag_2Q',\n",
    "    'INDU_NegDMI_100_lag_2Q','INDU_Trend_100_lag_2Q','INDU_PosDMI_200_lag_2Q',\n",
    "    'INDU_NegDMI_200_lag_2Q','INDU_Trend_200_lag_2Q','INDU_PosDMI_300_lag_2Q',\n",
    "    'INDU_NegDMI_300_lag_2Q','INDU_Trend_300_lag_2Q'], 2)"
   ]
  },
  {
   "cell_type": "code",
   "execution_count": 23,
   "metadata": {},
   "outputs": [
    {
     "name": "stdout",
     "output_type": "stream",
     "text": [
      "Accuracy = 0.8737883683360258\n",
      "Precision = 0.4594222833562586\n",
      "Recall = 0.5901060070671378\n",
      "F1 = 0.5166279969064191\n"
     ]
    },
    {
     "data": {
      "text/plain": [
       "0.5166279969064191"
      ]
     },
     "execution_count": 23,
     "metadata": {},
     "output_type": "execute_result"
    }
   ],
   "source": [
    "model_evaluation(y_test_A,prediction_svm_A,True)"
   ]
  },
  {
   "cell_type": "code",
   "execution_count": 24,
   "metadata": {},
   "outputs": [
    {
     "name": "stdout",
     "output_type": "stream",
     "text": [
      "Accuracy = 0.8607594936708861\n",
      "Precision = 0.4\n",
      "Recall = 0.4444444444444444\n",
      "F1 = 0.4210526315789474\n"
     ]
    },
    {
     "data": {
      "text/plain": [
       "0.4210526315789474"
      ]
     },
     "execution_count": 24,
     "metadata": {},
     "output_type": "execute_result"
    }
   ],
   "source": [
    "model_evaluation(y_test_B,prediction_svm_B,True)"
   ]
  },
  {
   "cell_type": "code",
   "execution_count": 49,
   "metadata": {},
   "outputs": [],
   "source": [
    "RSI_2_DMI_2_A_B = {'prediction_A':prediction_svm_A, 'prediction_B':prediction_svm_B, \n",
    "             'actual_A':y_test_A, 'actual_B':y_test_B, 'date_A':date_A, 'date_B':date_B}"
   ]
  },
  {
   "cell_type": "code",
   "execution_count": 50,
   "metadata": {},
   "outputs": [],
   "source": [
    "with open('RSI(-2Q)_DMI(-2Q)_A_B.pickle', 'wb') as file:\n",
    "    pickle.dump(RSI_2_DMI_2_A_B, file)"
   ]
  },
  {
   "cell_type": "code",
   "execution_count": 104,
   "metadata": {},
   "outputs": [],
   "source": [
    "prediction_svm_C, y_test_C, date_C = g([\n",
    "    'Spread_lag_1Y','NYA_RSI_100_lag_2Q','NYA_RSI_200_lag_2Q','NYA_RSI_300_lag_2Q',\n",
    "    'SPX_RSI_100_lag_2Q','SPX_RSI_200_lag_2Q','SPX_RSI_300_lag_2Q','INDU_RSI_100_lag_2Q',\n",
    "    'INDU_RSI_200_lag_2Q','INDU_RSI_300_lag_2Q','NYA_PosDMI_100_lag_2Q',\n",
    "    'NYA_NegDMI_100_lag_2Q','NYA_Trend_100_lag_2Q','NYA_PosDMI_200_lag_2Q',\n",
    "    'NYA_NegDMI_200_lag_2Q','NYA_Trend_200_lag_2Q','NYA_PosDMI_300_lag_2Q',\n",
    "    'NYA_NegDMI_300_lag_2Q','NYA_Trend_300_lag_2Q','SPX_PosDMI_100_lag_2Q',\n",
    "    'SPX_NegDMI_100_lag_2Q','SPX_Trend_100_lag_2Q','SPX_PosDMI_200_lag_2Q',\n",
    "    'SPX_NegDMI_200_lag_2Q','SPX_Trend_200_lag_2Q','SPX_PosDMI_300_lag_2Q',\n",
    "    'SPX_NegDMI_300_lag_2Q','SPX_Trend_300_lag_2Q','INDU_PosDMI_100_lag_2Q',\n",
    "    'INDU_NegDMI_100_lag_2Q','INDU_Trend_100_lag_2Q','INDU_PosDMI_200_lag_2Q',\n",
    "    'INDU_NegDMI_200_lag_2Q','INDU_Trend_200_lag_2Q','INDU_PosDMI_300_lag_2Q',\n",
    "    'INDU_NegDMI_300_lag_2Q','INDU_Trend_300_lag_2Q'], 2)"
   ]
  },
  {
   "cell_type": "code",
   "execution_count": 105,
   "metadata": {},
   "outputs": [
    {
     "name": "stdout",
     "output_type": "stream",
     "text": [
      "Accuracy = 0.8940677966101694\n",
      "Precision = 0.5454545454545454\n",
      "Recall = 0.6428571428571429\n",
      "F1 = 0.5901639344262296\n"
     ]
    },
    {
     "data": {
      "text/plain": [
       "0.5901639344262296"
      ]
     },
     "execution_count": 105,
     "metadata": {},
     "output_type": "execute_result"
    }
   ],
   "source": [
    "model_evaluation(y_test_C,prediction_svm_C,True)"
   ]
  },
  {
   "cell_type": "code",
   "execution_count": 53,
   "metadata": {},
   "outputs": [],
   "source": [
    "RSI_2_DMI_2_C = {'prediction_C':prediction_svm_C,'actual_C':y_test_C, 'date_C':date_C}"
   ]
  },
  {
   "cell_type": "code",
   "execution_count": 54,
   "metadata": {},
   "outputs": [],
   "source": [
    "with open('RSI(-2Q)_DMI(-2Q)_C.pickle', 'wb') as file:\n",
    "    pickle.dump(RSI_2_DMI_2_C, file)"
   ]
  },
  {
   "cell_type": "markdown",
   "metadata": {},
   "source": [
    "#### Yield Spread (-4Q), RSI (-1Q)"
   ]
  },
  {
   "cell_type": "code",
   "execution_count": 29,
   "metadata": {},
   "outputs": [],
   "source": [
    "prediction_svm_A, prediction_svm_B, y_test_A, y_test_B, date_A, date_B = f([\n",
    "    'Spread_lag_1Y','NYA_RSI_100_lag_1Q','NYA_RSI_200_lag_1Q','NYA_RSI_300_lag_1Q',\n",
    "    'SPX_RSI_100_lag_1Q','SPX_RSI_200_lag_1Q','SPX_RSI_300_lag_1Q','INDU_RSI_100_lag_1Q',\n",
    "    'INDU_RSI_200_lag_1Q','INDU_RSI_300_lag_1Q'], 1)"
   ]
  },
  {
   "cell_type": "code",
   "execution_count": 30,
   "metadata": {},
   "outputs": [
    {
     "name": "stdout",
     "output_type": "stream",
     "text": [
      "Accuracy = 0.9505250403877221\n",
      "Precision = 0.8282208588957055\n",
      "Recall = 0.715547703180212\n",
      "F1 = 0.7677725118483413\n"
     ]
    },
    {
     "data": {
      "text/plain": [
       "0.7677725118483413"
      ]
     },
     "execution_count": 30,
     "metadata": {},
     "output_type": "execute_result"
    }
   ],
   "source": [
    "model_evaluation(y_test_A,prediction_svm_A,True)"
   ]
  },
  {
   "cell_type": "code",
   "execution_count": 31,
   "metadata": {},
   "outputs": [
    {
     "name": "stdout",
     "output_type": "stream",
     "text": [
      "Accuracy = 0.9620253164556962\n",
      "Precision = 0.875\n",
      "Recall = 0.7777777777777778\n",
      "F1 = 0.823529411764706\n"
     ]
    },
    {
     "data": {
      "text/plain": [
       "0.823529411764706"
      ]
     },
     "execution_count": 31,
     "metadata": {},
     "output_type": "execute_result"
    }
   ],
   "source": [
    "model_evaluation(y_test_B,prediction_svm_B,True)"
   ]
  },
  {
   "cell_type": "code",
   "execution_count": 58,
   "metadata": {},
   "outputs": [],
   "source": [
    "RSI_1_A_B = {'prediction_A':prediction_svm_A, 'prediction_B':prediction_svm_B, \n",
    "             'actual_A':y_test_A, 'actual_B':y_test_B, 'date_A':date_A, 'date_B':date_B}"
   ]
  },
  {
   "cell_type": "code",
   "execution_count": 59,
   "metadata": {},
   "outputs": [],
   "source": [
    "with open('RSI(-1Q)_A_B.pickle', 'wb') as file:\n",
    "    pickle.dump(RSI_1_A_B, file)"
   ]
  },
  {
   "cell_type": "code",
   "execution_count": 13,
   "metadata": {},
   "outputs": [],
   "source": [
    "prediction_svm_C, y_test_C, date_C = g([\n",
    "    'Spread_lag_1Y','NYA_RSI_100_lag_1Q','NYA_RSI_200_lag_1Q','NYA_RSI_300_lag_1Q',\n",
    "    'SPX_RSI_100_lag_1Q','SPX_RSI_200_lag_1Q','SPX_RSI_300_lag_1Q',\n",
    "    'INDU_RSI_100_lag_1Q','INDU_RSI_200_lag_1Q','INDU_RSI_300_lag_1Q'], 1)"
   ]
  },
  {
   "cell_type": "code",
   "execution_count": 14,
   "metadata": {},
   "outputs": [
    {
     "name": "stdout",
     "output_type": "stream",
     "text": [
      "Accuracy = 0.9576271186440678\n",
      "Precision = 0.875\n",
      "Recall = 0.75\n",
      "F1 = 0.8076923076923077\n"
     ]
    },
    {
     "data": {
      "text/plain": [
       "0.8076923076923077"
      ]
     },
     "execution_count": 14,
     "metadata": {},
     "output_type": "execute_result"
    }
   ],
   "source": [
    "model_evaluation(y_test_C,prediction_svm_C,True)"
   ]
  },
  {
   "cell_type": "code",
   "execution_count": 62,
   "metadata": {},
   "outputs": [],
   "source": [
    "RSI_1_C = {'prediction_C':prediction_svm_C,'actual_C':y_test_C, 'date_C':date_C}"
   ]
  },
  {
   "cell_type": "code",
   "execution_count": 63,
   "metadata": {},
   "outputs": [],
   "source": [
    "with open('RSI(-1Q)_C.pickle', 'wb') as file:\n",
    "    pickle.dump(RSI_1_C, file)"
   ]
  },
  {
   "cell_type": "markdown",
   "metadata": {},
   "source": [
    "#### Yield Spread (-4Q), DMI (-1Q)"
   ]
  },
  {
   "cell_type": "code",
   "execution_count": 38,
   "metadata": {},
   "outputs": [],
   "source": [
    "prediction_svm_A, prediction_svm_B, y_test_A, y_test_B, date_A, date_B = f([\n",
    "    'Spread_lag_1Y','NYA_PosDMI_100_lag_1Q','NYA_NegDMI_100_lag_1Q','NYA_Trend_100_lag_1Q',\n",
    "    'NYA_PosDMI_200_lag_1Q','NYA_NegDMI_200_lag_1Q','NYA_Trend_200_lag_1Q',\n",
    "    'NYA_PosDMI_300_lag_1Q','NYA_NegDMI_300_lag_1Q','NYA_Trend_300_lag_1Q',\n",
    "    'SPX_PosDMI_100_lag_1Q','SPX_NegDMI_100_lag_1Q','SPX_Trend_100_lag_1Q',\n",
    "    'SPX_PosDMI_200_lag_1Q','SPX_NegDMI_200_lag_1Q','SPX_Trend_200_lag_1Q',\n",
    "    'SPX_PosDMI_300_lag_1Q','SPX_NegDMI_300_lag_1Q','SPX_Trend_300_lag_1Q',\n",
    "    'INDU_PosDMI_100_lag_1Q','INDU_NegDMI_100_lag_1Q','INDU_Trend_100_lag_1Q',\n",
    "    'INDU_PosDMI_200_lag_1Q','INDU_NegDMI_200_lag_1Q','INDU_Trend_200_lag_1Q',\n",
    "    'INDU_PosDMI_300_lag_1Q','INDU_NegDMI_300_lag_1Q','INDU_Trend_300_lag_1Q'], 1)"
   ]
  },
  {
   "cell_type": "code",
   "execution_count": 39,
   "metadata": {},
   "outputs": [
    {
     "name": "stdout",
     "output_type": "stream",
     "text": [
      "Accuracy = 0.9198303715670436\n",
      "Precision = 0.6251851851851852\n",
      "Recall = 0.7455830388692579\n",
      "F1 = 0.6800966962127317\n"
     ]
    },
    {
     "data": {
      "text/plain": [
       "0.6800966962127317"
      ]
     },
     "execution_count": 39,
     "metadata": {},
     "output_type": "execute_result"
    }
   ],
   "source": [
    "model_evaluation(y_test_A,prediction_svm_A,True)"
   ]
  },
  {
   "cell_type": "code",
   "execution_count": 40,
   "metadata": {},
   "outputs": [
    {
     "name": "stdout",
     "output_type": "stream",
     "text": [
      "Accuracy = 0.9493670886075949\n",
      "Precision = 0.7272727272727273\n",
      "Recall = 0.8888888888888888\n",
      "F1 = 0.7999999999999999\n"
     ]
    },
    {
     "data": {
      "text/plain": [
       "0.7999999999999999"
      ]
     },
     "execution_count": 40,
     "metadata": {},
     "output_type": "execute_result"
    }
   ],
   "source": [
    "model_evaluation(y_test_B,prediction_svm_B,True)"
   ]
  },
  {
   "cell_type": "code",
   "execution_count": 66,
   "metadata": {},
   "outputs": [],
   "source": [
    "DMI_1_A_B = {'prediction_A':prediction_svm_A, 'prediction_B':prediction_svm_B, \n",
    "             'actual_A':y_test_A, 'actual_B':y_test_B, 'date_A':date_A, 'date_B':date_B}"
   ]
  },
  {
   "cell_type": "code",
   "execution_count": 67,
   "metadata": {},
   "outputs": [],
   "source": [
    "with open('DMI(-1Q)_A_B.pickle', 'wb') as file:\n",
    "    pickle.dump(DMI_1_A_B, file)"
   ]
  },
  {
   "cell_type": "code",
   "execution_count": 19,
   "metadata": {},
   "outputs": [],
   "source": [
    "prediction_svm_C, y_test_C, date_C = g(['Spread_lag_1Y',\n",
    "                'NYA_PosDMI_100_lag_1Q','NYA_NegDMI_100_lag_1Q','NYA_Trend_100_lag_1Q',\n",
    "                'NYA_PosDMI_200_lag_1Q','NYA_NegDMI_200_lag_1Q','NYA_Trend_200_lag_1Q',\n",
    "                'NYA_PosDMI_300_lag_1Q','NYA_NegDMI_300_lag_1Q','NYA_Trend_300_lag_1Q',\n",
    "                'SPX_PosDMI_100_lag_1Q','SPX_NegDMI_100_lag_1Q','SPX_Trend_100_lag_1Q',\n",
    "                'SPX_PosDMI_200_lag_1Q','SPX_NegDMI_200_lag_1Q','SPX_Trend_200_lag_1Q',\n",
    "                'SPX_PosDMI_300_lag_1Q','SPX_NegDMI_300_lag_1Q','SPX_Trend_300_lag_1Q',\n",
    "                'INDU_PosDMI_100_lag_1Q','INDU_NegDMI_100_lag_1Q','INDU_Trend_100_lag_1Q',\n",
    "                'INDU_PosDMI_200_lag_1Q','INDU_NegDMI_200_lag_1Q','INDU_Trend_200_lag_1Q',\n",
    "                'INDU_PosDMI_300_lag_1Q','INDU_NegDMI_300_lag_1Q','INDU_Trend_300_lag_1Q'], 1)"
   ]
  },
  {
   "cell_type": "code",
   "execution_count": 20,
   "metadata": {},
   "outputs": [
    {
     "name": "stdout",
     "output_type": "stream",
     "text": [
      "Accuracy = 0.9364406779661016\n",
      "Precision = 0.696969696969697\n",
      "Recall = 0.8214285714285714\n",
      "F1 = 0.7540983606557378\n"
     ]
    },
    {
     "data": {
      "text/plain": [
       "0.7540983606557378"
      ]
     },
     "execution_count": 20,
     "metadata": {},
     "output_type": "execute_result"
    }
   ],
   "source": [
    "model_evaluation(y_test_C,prediction_svm_C,True)"
   ]
  },
  {
   "cell_type": "code",
   "execution_count": 70,
   "metadata": {},
   "outputs": [],
   "source": [
    "DMI_1_C = {'prediction_C':prediction_svm_C,'actual_C':y_test_C, 'date_C':date_C}"
   ]
  },
  {
   "cell_type": "code",
   "execution_count": 71,
   "metadata": {},
   "outputs": [],
   "source": [
    "with open('DMI(-1Q)_C.pickle', 'wb') as file:\n",
    "    pickle.dump(DMI_1_C, file)"
   ]
  },
  {
   "cell_type": "markdown",
   "metadata": {},
   "source": [
    "#### Yield Spread (-4Q), RSI (-1Q), DMI (-1Q)"
   ]
  },
  {
   "cell_type": "code",
   "execution_count": 44,
   "metadata": {},
   "outputs": [],
   "source": [
    "prediction_svm_A, prediction_svm_B, y_test_A, y_test_B, date_A, date_B = f([\n",
    "    'Spread_lag_1Y','NYA_RSI_100_lag_1Q','NYA_RSI_200_lag_1Q','NYA_RSI_300_lag_1Q',\n",
    "    'SPX_RSI_100_lag_1Q','SPX_RSI_200_lag_1Q','SPX_RSI_300_lag_1Q','INDU_RSI_100_lag_1Q',\n",
    "    'INDU_RSI_200_lag_1Q','INDU_RSI_300_lag_1Q','NYA_PosDMI_100_lag_1Q',\n",
    "    'NYA_NegDMI_100_lag_1Q','NYA_Trend_100_lag_1Q','NYA_PosDMI_200_lag_1Q',\n",
    "    'NYA_NegDMI_200_lag_1Q','NYA_Trend_200_lag_1Q','NYA_PosDMI_300_lag_1Q',\n",
    "    'NYA_NegDMI_300_lag_1Q','NYA_Trend_300_lag_1Q','SPX_PosDMI_100_lag_1Q',\n",
    "    'SPX_NegDMI_100_lag_1Q','SPX_Trend_100_lag_1Q','SPX_PosDMI_200_lag_1Q',\n",
    "    'SPX_NegDMI_200_lag_1Q','SPX_Trend_200_lag_1Q','SPX_PosDMI_300_lag_1Q',\n",
    "    'SPX_NegDMI_300_lag_1Q','SPX_Trend_300_lag_1Q','INDU_PosDMI_100_lag_1Q',\n",
    "    'INDU_NegDMI_100_lag_1Q','INDU_Trend_100_lag_1Q','INDU_PosDMI_200_lag_1Q',\n",
    "    'INDU_NegDMI_200_lag_1Q','INDU_Trend_200_lag_1Q','INDU_PosDMI_300_lag_1Q',\n",
    "    'INDU_NegDMI_300_lag_1Q','INDU_Trend_300_lag_1Q'], 1)"
   ]
  },
  {
   "cell_type": "code",
   "execution_count": 45,
   "metadata": {},
   "outputs": [
    {
     "name": "stdout",
     "output_type": "stream",
     "text": [
      "Accuracy = 0.9478998384491115\n",
      "Precision = 0.7347560975609756\n",
      "Recall = 0.8515901060070671\n",
      "F1 = 0.7888707037643208\n"
     ]
    },
    {
     "data": {
      "text/plain": [
       "0.7888707037643208"
      ]
     },
     "execution_count": 45,
     "metadata": {},
     "output_type": "execute_result"
    }
   ],
   "source": [
    "model_evaluation(y_test_A,prediction_svm_A,True)"
   ]
  },
  {
   "cell_type": "code",
   "execution_count": 46,
   "metadata": {},
   "outputs": [
    {
     "name": "stdout",
     "output_type": "stream",
     "text": [
      "Accuracy = 0.9620253164556962\n",
      "Precision = 0.8\n",
      "Recall = 0.8888888888888888\n",
      "F1 = 0.8421052631578948\n"
     ]
    },
    {
     "data": {
      "text/plain": [
       "0.8421052631578948"
      ]
     },
     "execution_count": 46,
     "metadata": {},
     "output_type": "execute_result"
    }
   ],
   "source": [
    "model_evaluation(y_test_B,prediction_svm_B,True)"
   ]
  },
  {
   "cell_type": "code",
   "execution_count": 74,
   "metadata": {},
   "outputs": [],
   "source": [
    "RSI_1_DMI_1_A_B = {'prediction_A':prediction_svm_A, 'prediction_B':prediction_svm_B, \n",
    "                   'actual_A':y_test_A, 'actual_B':y_test_B, 'date_A':date_A, 'date_B':date_B}"
   ]
  },
  {
   "cell_type": "code",
   "execution_count": 75,
   "metadata": {},
   "outputs": [],
   "source": [
    "with open('RSI(-1Q)_DMI(-1Q)_A_B.pickle', 'wb') as file:\n",
    "    pickle.dump(RSI_1_DMI_1_A_B, file)"
   ]
  },
  {
   "cell_type": "code",
   "execution_count": 24,
   "metadata": {},
   "outputs": [],
   "source": [
    "prediction_svm_C, y_test_C, date_C = g([\n",
    "    'Spread_lag_1Y','NYA_RSI_100_lag_1Q','NYA_RSI_200_lag_1Q','NYA_RSI_300_lag_1Q',\n",
    "    'SPX_RSI_100_lag_1Q','SPX_RSI_200_lag_1Q','SPX_RSI_300_lag_1Q','INDU_RSI_100_lag_1Q',\n",
    "    'INDU_RSI_200_lag_1Q','INDU_RSI_300_lag_1Q','NYA_PosDMI_100_lag_1Q',\n",
    "    'NYA_NegDMI_100_lag_1Q','NYA_Trend_100_lag_1Q','NYA_PosDMI_200_lag_1Q',\n",
    "    'NYA_NegDMI_200_lag_1Q','NYA_Trend_200_lag_1Q','NYA_PosDMI_300_lag_1Q',\n",
    "    'NYA_NegDMI_300_lag_1Q','NYA_Trend_300_lag_1Q','SPX_PosDMI_100_lag_1Q',\n",
    "    'SPX_NegDMI_100_lag_1Q','SPX_Trend_100_lag_1Q','SPX_PosDMI_200_lag_1Q',\n",
    "    'SPX_NegDMI_200_lag_1Q','SPX_Trend_200_lag_1Q','SPX_PosDMI_300_lag_1Q',\n",
    "    'SPX_NegDMI_300_lag_1Q','SPX_Trend_300_lag_1Q','INDU_PosDMI_100_lag_1Q',\n",
    "    'INDU_NegDMI_100_lag_1Q','INDU_Trend_100_lag_1Q','INDU_PosDMI_200_lag_1Q',\n",
    "    'INDU_NegDMI_200_lag_1Q','INDU_Trend_200_lag_1Q','INDU_PosDMI_300_lag_1Q',\n",
    "    'INDU_NegDMI_300_lag_1Q','INDU_Trend_300_lag_1Q'], 1)"
   ]
  },
  {
   "cell_type": "code",
   "execution_count": 25,
   "metadata": {},
   "outputs": [
    {
     "name": "stdout",
     "output_type": "stream",
     "text": [
      "Accuracy = 0.9576271186440678\n",
      "Precision = 0.78125\n",
      "Recall = 0.8928571428571429\n",
      "F1 = 0.8333333333333334\n"
     ]
    },
    {
     "data": {
      "text/plain": [
       "0.8333333333333334"
      ]
     },
     "execution_count": 25,
     "metadata": {},
     "output_type": "execute_result"
    }
   ],
   "source": [
    "model_evaluation(y_test_C,prediction_svm_C,True)"
   ]
  },
  {
   "cell_type": "code",
   "execution_count": 78,
   "metadata": {},
   "outputs": [],
   "source": [
    "RSI_1_DMI_1_C = {'prediction_C':prediction_svm_C,'actual_C':y_test_C, 'date_C':date_C}"
   ]
  },
  {
   "cell_type": "code",
   "execution_count": 79,
   "metadata": {},
   "outputs": [],
   "source": [
    "with open('RSI(-1Q)_DMI(-1Q)_C.pickle', 'wb') as file:\n",
    "    pickle.dump(RSI_1_DMI_1_C, file)"
   ]
  },
  {
   "cell_type": "markdown",
   "metadata": {},
   "source": [
    "#### Yield Spread (-4Q), RSI (-2Q), RSI (-1Q)"
   ]
  },
  {
   "cell_type": "code",
   "execution_count": 67,
   "metadata": {},
   "outputs": [],
   "source": [
    "prediction_svm_A, prediction_svm_B, y_test_A, y_test_B, date_A, date_B = f([\n",
    "    'Spread_lag_1Y','NYA_RSI_100_lag_1Q','NYA_RSI_200_lag_1Q','NYA_RSI_300_lag_1Q',\n",
    "    'NYA_RSI_100_lag_2Q','NYA_RSI_200_lag_2Q','NYA_RSI_300_lag_2Q',\n",
    "    'SPX_RSI_100_lag_1Q','SPX_RSI_200_lag_1Q','SPX_RSI_300_lag_1Q',\n",
    "    'SPX_RSI_100_lag_2Q','SPX_RSI_200_lag_2Q','SPX_RSI_300_lag_2Q','INDU_RSI_100_lag_1Q',\n",
    "    'INDU_RSI_200_lag_1Q','INDU_RSI_300_lag_1Q','INDU_RSI_100_lag_2Q','INDU_RSI_200_lag_2Q',\n",
    "    'INDU_RSI_300_lag_2Q'], 1)"
   ]
  },
  {
   "cell_type": "code",
   "execution_count": 68,
   "metadata": {},
   "outputs": [
    {
     "name": "stdout",
     "output_type": "stream",
     "text": [
      "Accuracy = 0.9460823909531503\n",
      "Precision = 0.7655417406749556\n",
      "Recall = 0.7614840989399293\n",
      "F1 = 0.7635075287865368\n"
     ]
    },
    {
     "data": {
      "text/plain": [
       "0.7635075287865368"
      ]
     },
     "execution_count": 68,
     "metadata": {},
     "output_type": "execute_result"
    }
   ],
   "source": [
    "model_evaluation(y_test_A,prediction_svm_A,True)"
   ]
  },
  {
   "cell_type": "code",
   "execution_count": 69,
   "metadata": {},
   "outputs": [
    {
     "name": "stdout",
     "output_type": "stream",
     "text": [
      "Accuracy = 0.9493670886075949\n",
      "Precision = 0.7777777777777778\n",
      "Recall = 0.7777777777777778\n",
      "F1 = 0.7777777777777778\n"
     ]
    },
    {
     "data": {
      "text/plain": [
       "0.7777777777777778"
      ]
     },
     "execution_count": 69,
     "metadata": {},
     "output_type": "execute_result"
    }
   ],
   "source": [
    "model_evaluation(y_test_B,prediction_svm_B,True)"
   ]
  },
  {
   "cell_type": "code",
   "execution_count": 82,
   "metadata": {},
   "outputs": [],
   "source": [
    "RSI_2_RSI_1_A_B = {'prediction_A':prediction_svm_A, 'prediction_B':prediction_svm_B, \n",
    "                   'actual_A':y_test_A, 'actual_B':y_test_B, 'date_A':date_A, 'date_B':date_B}"
   ]
  },
  {
   "cell_type": "code",
   "execution_count": 83,
   "metadata": {},
   "outputs": [],
   "source": [
    "with open('RSI(-2Q)_RSI(-1Q)_A_B.pickle', 'wb') as file:\n",
    "    pickle.dump(RSI_2_RSI_1_A_B, file)"
   ]
  },
  {
   "cell_type": "code",
   "execution_count": 28,
   "metadata": {},
   "outputs": [],
   "source": [
    "prediction_svm_C, y_test_C, date_C= g([\n",
    "    'Spread_lag_1Y','NYA_RSI_100_lag_1Q','NYA_RSI_200_lag_1Q','NYA_RSI_300_lag_1Q',\n",
    "    'NYA_RSI_100_lag_2Q','NYA_RSI_200_lag_2Q','NYA_RSI_300_lag_2Q','SPX_RSI_100_lag_1Q',\n",
    "    'SPX_RSI_200_lag_1Q','SPX_RSI_300_lag_1Q','SPX_RSI_100_lag_2Q','SPX_RSI_200_lag_2Q',\n",
    "    'SPX_RSI_300_lag_2Q','INDU_RSI_100_lag_1Q','INDU_RSI_200_lag_1Q','INDU_RSI_300_lag_1Q',\n",
    "    'INDU_RSI_100_lag_2Q','INDU_RSI_200_lag_2Q','INDU_RSI_300_lag_2Q'], 1)"
   ]
  },
  {
   "cell_type": "code",
   "execution_count": 29,
   "metadata": {},
   "outputs": [
    {
     "name": "stdout",
     "output_type": "stream",
     "text": [
      "Accuracy = 0.9491525423728814\n",
      "Precision = 0.7857142857142857\n",
      "Recall = 0.7857142857142857\n",
      "F1 = 0.7857142857142857\n"
     ]
    },
    {
     "data": {
      "text/plain": [
       "0.7857142857142857"
      ]
     },
     "execution_count": 29,
     "metadata": {},
     "output_type": "execute_result"
    }
   ],
   "source": [
    "model_evaluation(y_test_C,prediction_svm_C,True)"
   ]
  },
  {
   "cell_type": "code",
   "execution_count": 86,
   "metadata": {},
   "outputs": [],
   "source": [
    "RSI_2_RSI_1_C = {'prediction_C':prediction_svm_C,'actual_C':y_test_C, 'date_C':date_C}"
   ]
  },
  {
   "cell_type": "code",
   "execution_count": 87,
   "metadata": {},
   "outputs": [],
   "source": [
    "with open('RSI(-2Q)_RSI(-1Q)_C.pickle', 'wb') as file:\n",
    "    pickle.dump(RSI_2_RSI_1_C, file)"
   ]
  },
  {
   "cell_type": "markdown",
   "metadata": {},
   "source": [
    "#### Yield Spread (-4Q), DMI (-2Q), DMI (-1Q)"
   ]
  },
  {
   "cell_type": "code",
   "execution_count": 58,
   "metadata": {},
   "outputs": [],
   "source": [
    "prediction_svm_A, prediction_svm_B, y_test_A, y_test_B, date_A, date_B = f([\n",
    "    'Spread_lag_1Y','NYA_PosDMI_100_lag_1Q','NYA_NegDMI_100_lag_1Q','NYA_Trend_100_lag_1Q',\n",
    "    'NYA_PosDMI_200_lag_1Q','NYA_NegDMI_200_lag_1Q','NYA_Trend_200_lag_1Q',\n",
    "    'NYA_PosDMI_300_lag_1Q','NYA_NegDMI_300_lag_1Q','NYA_Trend_300_lag_1Q',\n",
    "    'NYA_PosDMI_100_lag_2Q','NYA_NegDMI_100_lag_2Q','NYA_Trend_100_lag_2Q',\n",
    "    'NYA_PosDMI_200_lag_2Q','NYA_NegDMI_200_lag_2Q','NYA_Trend_200_lag_2Q',\n",
    "    'NYA_PosDMI_300_lag_2Q','NYA_NegDMI_300_lag_2Q','NYA_Trend_300_lag_2Q',\n",
    "    'SPX_PosDMI_100_lag_1Q','SPX_NegDMI_100_lag_1Q','SPX_Trend_100_lag_1Q',\n",
    "    'SPX_PosDMI_200_lag_1Q','SPX_NegDMI_200_lag_1Q','SPX_Trend_200_lag_1Q',\n",
    "    'SPX_PosDMI_300_lag_1Q','SPX_NegDMI_300_lag_1Q','SPX_Trend_300_lag_1Q',\n",
    "    'SPX_PosDMI_100_lag_2Q','SPX_NegDMI_100_lag_2Q','SPX_Trend_100_lag_2Q',\n",
    "    'SPX_PosDMI_200_lag_2Q','SPX_NegDMI_200_lag_2Q','SPX_Trend_200_lag_2Q',\n",
    "    'SPX_PosDMI_300_lag_2Q','SPX_NegDMI_300_lag_2Q','SPX_Trend_300_lag_2Q',\n",
    "    'INDU_PosDMI_100_lag_1Q','INDU_NegDMI_100_lag_1Q','INDU_Trend_100_lag_1Q',\n",
    "    'INDU_PosDMI_200_lag_1Q','INDU_NegDMI_200_lag_1Q','INDU_Trend_200_lag_1Q',\n",
    "    'INDU_PosDMI_300_lag_1Q','INDU_NegDMI_300_lag_1Q','INDU_Trend_300_lag_1Q',\n",
    "    'INDU_PosDMI_100_lag_2Q','INDU_NegDMI_100_lag_2Q','INDU_Trend_100_lag_2Q',\n",
    "    'INDU_PosDMI_200_lag_2Q','INDU_NegDMI_200_lag_2Q','INDU_Trend_200_lag_2Q',\n",
    "    'INDU_PosDMI_300_lag_2Q','INDU_NegDMI_300_lag_2Q','INDU_Trend_300_lag_2Q'], 1)"
   ]
  },
  {
   "cell_type": "code",
   "execution_count": 59,
   "metadata": {},
   "outputs": [
    {
     "name": "stdout",
     "output_type": "stream",
     "text": [
      "Accuracy = 0.9301292407108239\n",
      "Precision = 0.6462765957446809\n",
      "Recall = 0.8586572438162544\n",
      "F1 = 0.7374810318664643\n"
     ]
    },
    {
     "data": {
      "text/plain": [
       "0.7374810318664643"
      ]
     },
     "execution_count": 59,
     "metadata": {},
     "output_type": "execute_result"
    }
   ],
   "source": [
    "model_evaluation(y_test_A,prediction_svm_A,True)"
   ]
  },
  {
   "cell_type": "code",
   "execution_count": 60,
   "metadata": {},
   "outputs": [
    {
     "name": "stdout",
     "output_type": "stream",
     "text": [
      "Accuracy = 0.9367088607594937\n",
      "Precision = 0.6666666666666666\n",
      "Recall = 0.8888888888888888\n",
      "F1 = 0.761904761904762\n"
     ]
    },
    {
     "data": {
      "text/plain": [
       "0.761904761904762"
      ]
     },
     "execution_count": 60,
     "metadata": {},
     "output_type": "execute_result"
    }
   ],
   "source": [
    "model_evaluation(y_test_B,prediction_svm_B,True)"
   ]
  },
  {
   "cell_type": "code",
   "execution_count": 90,
   "metadata": {},
   "outputs": [],
   "source": [
    "DMI_2_DMI_1_A_B = {'prediction_A':prediction_svm_A, 'prediction_B':prediction_svm_B, \n",
    "                   'actual_A':y_test_A, 'actual_B':y_test_B, 'date_A':date_A, 'date_B':date_B}"
   ]
  },
  {
   "cell_type": "code",
   "execution_count": 91,
   "metadata": {},
   "outputs": [],
   "source": [
    "with open('DMI(-2Q)_DMI(-1Q)_A_B.pickle', 'wb') as file:\n",
    "    pickle.dump(DMI_2_DMI_1_A_B, file)"
   ]
  },
  {
   "cell_type": "code",
   "execution_count": 13,
   "metadata": {},
   "outputs": [],
   "source": [
    "prediction_svm_C, y_test_C, date_C = g([\n",
    "    'Spread_lag_1Y','NYA_PosDMI_100_lag_1Q','NYA_NegDMI_100_lag_1Q','NYA_Trend_100_lag_1Q',\n",
    "    'NYA_PosDMI_200_lag_1Q','NYA_NegDMI_200_lag_1Q','NYA_Trend_200_lag_1Q',\n",
    "    'NYA_PosDMI_300_lag_1Q','NYA_NegDMI_300_lag_1Q','NYA_Trend_300_lag_1Q',\n",
    "    'NYA_PosDMI_100_lag_2Q','NYA_NegDMI_100_lag_2Q','NYA_Trend_100_lag_2Q',\n",
    "    'NYA_PosDMI_200_lag_2Q','NYA_NegDMI_200_lag_2Q','NYA_Trend_200_lag_2Q',\n",
    "    'NYA_PosDMI_300_lag_2Q','NYA_NegDMI_300_lag_2Q','NYA_Trend_300_lag_2Q',\n",
    "    'SPX_PosDMI_100_lag_1Q','SPX_NegDMI_100_lag_1Q','SPX_Trend_100_lag_1Q',\n",
    "    'SPX_PosDMI_200_lag_1Q','SPX_NegDMI_200_lag_1Q','SPX_Trend_200_lag_1Q',\n",
    "    'SPX_PosDMI_300_lag_1Q','SPX_NegDMI_300_lag_1Q','SPX_Trend_300_lag_1Q',\n",
    "    'SPX_PosDMI_100_lag_2Q','SPX_NegDMI_100_lag_2Q','SPX_Trend_100_lag_2Q',\n",
    "    'SPX_PosDMI_200_lag_2Q','SPX_NegDMI_200_lag_2Q','SPX_Trend_200_lag_2Q',\n",
    "    'SPX_PosDMI_300_lag_2Q','SPX_NegDMI_300_lag_2Q','SPX_Trend_300_lag_2Q',\n",
    "    'INDU_PosDMI_100_lag_1Q','INDU_NegDMI_100_lag_1Q','INDU_Trend_100_lag_1Q',\n",
    "    'INDU_PosDMI_200_lag_1Q','INDU_NegDMI_200_lag_1Q','INDU_Trend_200_lag_1Q',\n",
    "    'INDU_PosDMI_300_lag_1Q','INDU_NegDMI_300_lag_1Q','INDU_Trend_300_lag_1Q',\n",
    "    'INDU_PosDMI_100_lag_2Q','INDU_NegDMI_100_lag_2Q','INDU_Trend_100_lag_2Q',\n",
    "    'INDU_PosDMI_200_lag_2Q','INDU_NegDMI_200_lag_2Q','INDU_Trend_200_lag_2Q',\n",
    "    'INDU_PosDMI_300_lag_2Q','INDU_NegDMI_300_lag_2Q','INDU_Trend_300_lag_2Q'], 1)"
   ]
  },
  {
   "cell_type": "code",
   "execution_count": 14,
   "metadata": {},
   "outputs": [
    {
     "name": "stdout",
     "output_type": "stream",
     "text": [
      "Accuracy = 0.9364406779661016\n",
      "Precision = 0.6857142857142857\n",
      "Recall = 0.8571428571428571\n",
      "F1 = 0.7619047619047619\n"
     ]
    },
    {
     "data": {
      "text/plain": [
       "0.7619047619047619"
      ]
     },
     "execution_count": 14,
     "metadata": {},
     "output_type": "execute_result"
    }
   ],
   "source": [
    "model_evaluation(y_test_C,prediction_svm_C,True)"
   ]
  },
  {
   "cell_type": "code",
   "execution_count": 94,
   "metadata": {},
   "outputs": [],
   "source": [
    "DMI_2_DMI_1_C = {'prediction_C':prediction_svm_C,'actual_C':y_test_C, 'date_C':date_C}"
   ]
  },
  {
   "cell_type": "code",
   "execution_count": 95,
   "metadata": {},
   "outputs": [],
   "source": [
    "with open('DMI(-2Q)_DMI(-1Q)_C.pickle', 'wb') as file:\n",
    "    pickle.dump(DMI_2_DMI_1_C, file)"
   ]
  },
  {
   "cell_type": "markdown",
   "metadata": {},
   "source": [
    "#### Comprehensive Model"
   ]
  },
  {
   "cell_type": "code",
   "execution_count": 73,
   "metadata": {},
   "outputs": [],
   "source": [
    "prediction_svm_A, prediction_svm_B, y_test_A, y_test_B, date_A, date_B = f([\n",
    "    'Spread_lag_1Y','NYA_RSI_100_lag_1Q','NYA_RSI_200_lag_1Q','NYA_RSI_300_lag_1Q',\n",
    "    'NYA_RSI_100_lag_2Q','NYA_RSI_200_lag_2Q','NYA_RSI_300_lag_2Q','SPX_RSI_100_lag_1Q',\n",
    "    'SPX_RSI_200_lag_1Q','SPX_RSI_300_lag_1Q','SPX_RSI_100_lag_2Q','SPX_RSI_200_lag_2Q',\n",
    "    'SPX_RSI_300_lag_2Q','INDU_RSI_100_lag_1Q','INDU_RSI_200_lag_1Q','INDU_RSI_300_lag_1Q',\n",
    "    'INDU_RSI_100_lag_2Q','INDU_RSI_200_lag_2Q','INDU_RSI_300_lag_2Q','NYA_PosDMI_100_lag_1Q',\n",
    "    'NYA_NegDMI_100_lag_1Q','NYA_Trend_100_lag_1Q','NYA_PosDMI_200_lag_1Q',\n",
    "    'NYA_NegDMI_200_lag_1Q','NYA_Trend_200_lag_1Q','NYA_PosDMI_300_lag_1Q',\n",
    "    'NYA_NegDMI_300_lag_1Q','NYA_Trend_300_lag_1Q','NYA_PosDMI_100_lag_2Q',\n",
    "    'NYA_NegDMI_100_lag_2Q','NYA_Trend_100_lag_2Q','NYA_PosDMI_200_lag_2Q',\n",
    "    'NYA_NegDMI_200_lag_2Q','NYA_Trend_200_lag_2Q','NYA_PosDMI_300_lag_2Q',\n",
    "    'NYA_NegDMI_300_lag_2Q','NYA_Trend_300_lag_2Q','SPX_PosDMI_100_lag_1Q',\n",
    "    'SPX_NegDMI_100_lag_1Q','SPX_Trend_100_lag_1Q','SPX_PosDMI_200_lag_1Q',\n",
    "    'SPX_NegDMI_200_lag_1Q','SPX_Trend_200_lag_1Q','SPX_PosDMI_300_lag_1Q',\n",
    "    'SPX_NegDMI_300_lag_1Q','SPX_Trend_300_lag_1Q','SPX_PosDMI_100_lag_2Q',\n",
    "    'SPX_NegDMI_100_lag_2Q','SPX_Trend_100_lag_2Q','SPX_PosDMI_200_lag_2Q',\n",
    "    'SPX_NegDMI_200_lag_2Q','SPX_Trend_200_lag_2Q','SPX_PosDMI_300_lag_2Q',\n",
    "    'SPX_NegDMI_300_lag_2Q','SPX_Trend_300_lag_2Q','INDU_PosDMI_100_lag_1Q',\n",
    "    'INDU_NegDMI_100_lag_1Q','INDU_Trend_100_lag_1Q','INDU_PosDMI_200_lag_1Q',\n",
    "    'INDU_NegDMI_200_lag_1Q','INDU_Trend_200_lag_1Q','INDU_PosDMI_300_lag_1Q',\n",
    "    'INDU_NegDMI_300_lag_1Q','INDU_Trend_300_lag_1Q','INDU_PosDMI_100_lag_2Q',\n",
    "    'INDU_NegDMI_100_lag_2Q','INDU_Trend_100_lag_2Q','INDU_PosDMI_200_lag_2Q',\n",
    "    'INDU_NegDMI_200_lag_2Q','INDU_Trend_200_lag_2Q','INDU_PosDMI_300_lag_2Q',\n",
    "    'INDU_NegDMI_300_lag_2Q','INDU_Trend_300_lag_2Q'], 1)"
   ]
  },
  {
   "cell_type": "code",
   "execution_count": 74,
   "metadata": {},
   "outputs": [
    {
     "name": "stdout",
     "output_type": "stream",
     "text": [
      "Accuracy = 0.9545638126009693\n",
      "Precision = 0.7548579970104634\n",
      "Recall = 0.892226148409894\n",
      "F1 = 0.8178137651821862\n"
     ]
    },
    {
     "data": {
      "text/plain": [
       "0.8178137651821862"
      ]
     },
     "execution_count": 74,
     "metadata": {},
     "output_type": "execute_result"
    }
   ],
   "source": [
    "model_evaluation(y_test_A,prediction_svm_A,True)"
   ]
  },
  {
   "cell_type": "code",
   "execution_count": 75,
   "metadata": {},
   "outputs": [
    {
     "name": "stdout",
     "output_type": "stream",
     "text": [
      "Accuracy = 0.9746835443037974\n",
      "Precision = 0.8181818181818182\n",
      "Recall = 1.0\n",
      "F1 = 0.9\n"
     ]
    },
    {
     "data": {
      "text/plain": [
       "0.9"
      ]
     },
     "execution_count": 75,
     "metadata": {},
     "output_type": "execute_result"
    }
   ],
   "source": [
    "model_evaluation(y_test_B,prediction_svm_B,True)"
   ]
  },
  {
   "cell_type": "code",
   "execution_count": 99,
   "metadata": {},
   "outputs": [],
   "source": [
    "Comprehensive_A_B = {'prediction_A':prediction_svm_A, 'prediction_B':prediction_svm_B, \n",
    "                     'actual_A':y_test_A, 'actual_B':y_test_B, 'date_A':date_A, 'date_B':date_B}"
   ]
  },
  {
   "cell_type": "code",
   "execution_count": 100,
   "metadata": {},
   "outputs": [],
   "source": [
    "with open('Comprehensive_A_B.pickle', 'wb') as file:\n",
    "    pickle.dump(Comprehensive_A_B, file)"
   ]
  },
  {
   "cell_type": "code",
   "execution_count": 17,
   "metadata": {},
   "outputs": [],
   "source": [
    "prediction_svm_C, y_test_C, date_C = g([\n",
    "    'Spread_lag_1Y','NYA_RSI_100_lag_1Q','NYA_RSI_200_lag_1Q','NYA_RSI_300_lag_1Q',\n",
    "    'NYA_RSI_100_lag_2Q','NYA_RSI_200_lag_2Q','NYA_RSI_300_lag_2Q','SPX_RSI_100_lag_1Q',\n",
    "    'SPX_RSI_200_lag_1Q','SPX_RSI_300_lag_1Q','SPX_RSI_100_lag_2Q','SPX_RSI_200_lag_2Q',\n",
    "    'SPX_RSI_300_lag_2Q','INDU_RSI_100_lag_1Q','INDU_RSI_200_lag_1Q','INDU_RSI_300_lag_1Q',\n",
    "    'INDU_RSI_100_lag_2Q','INDU_RSI_200_lag_2Q','INDU_RSI_300_lag_2Q',\n",
    "    'NYA_PosDMI_100_lag_1Q','NYA_NegDMI_100_lag_1Q','NYA_Trend_100_lag_1Q',\n",
    "    'NYA_PosDMI_200_lag_1Q','NYA_NegDMI_200_lag_1Q','NYA_Trend_200_lag_1Q',\n",
    "    'NYA_PosDMI_300_lag_1Q','NYA_NegDMI_300_lag_1Q','NYA_Trend_300_lag_1Q',\n",
    "    'NYA_PosDMI_100_lag_2Q','NYA_NegDMI_100_lag_2Q','NYA_Trend_100_lag_2Q',\n",
    "    'NYA_PosDMI_200_lag_2Q','NYA_NegDMI_200_lag_2Q','NYA_Trend_200_lag_2Q',\n",
    "    'NYA_PosDMI_300_lag_2Q','NYA_NegDMI_300_lag_2Q','NYA_Trend_300_lag_2Q',\n",
    "    'SPX_PosDMI_100_lag_1Q','SPX_NegDMI_100_lag_1Q','SPX_Trend_100_lag_1Q',\n",
    "    'SPX_PosDMI_200_lag_1Q','SPX_NegDMI_200_lag_1Q','SPX_Trend_200_lag_1Q',\n",
    "    'SPX_PosDMI_300_lag_1Q','SPX_NegDMI_300_lag_1Q','SPX_Trend_300_lag_1Q',\n",
    "    'SPX_PosDMI_100_lag_2Q','SPX_NegDMI_100_lag_2Q','SPX_Trend_100_lag_2Q',\n",
    "    'SPX_PosDMI_200_lag_2Q','SPX_NegDMI_200_lag_2Q','SPX_Trend_200_lag_2Q',\n",
    "    'SPX_PosDMI_300_lag_2Q','SPX_NegDMI_300_lag_2Q','SPX_Trend_300_lag_2Q',\n",
    "    'INDU_PosDMI_100_lag_1Q','INDU_NegDMI_100_lag_1Q','INDU_Trend_100_lag_1Q',\n",
    "    'INDU_PosDMI_200_lag_1Q','INDU_NegDMI_200_lag_1Q','INDU_Trend_200_lag_1Q',\n",
    "    'INDU_PosDMI_300_lag_1Q','INDU_NegDMI_300_lag_1Q','INDU_Trend_300_lag_1Q',\n",
    "    'INDU_PosDMI_100_lag_2Q','INDU_NegDMI_100_lag_2Q','INDU_Trend_100_lag_2Q',\n",
    "    'INDU_PosDMI_200_lag_2Q','INDU_NegDMI_200_lag_2Q','INDU_Trend_200_lag_2Q',\n",
    "    'INDU_PosDMI_300_lag_2Q','INDU_NegDMI_300_lag_2Q','INDU_Trend_300_lag_2Q'], 1)"
   ]
  },
  {
   "cell_type": "code",
   "execution_count": 18,
   "metadata": {},
   "outputs": [
    {
     "name": "stdout",
     "output_type": "stream",
     "text": [
      "Accuracy = 0.9703389830508474\n",
      "Precision = 0.8387096774193549\n",
      "Recall = 0.9285714285714286\n",
      "F1 = 0.8813559322033899\n"
     ]
    },
    {
     "data": {
      "text/plain": [
       "0.8813559322033899"
      ]
     },
     "execution_count": 18,
     "metadata": {},
     "output_type": "execute_result"
    }
   ],
   "source": [
    "model_evaluation(y_test_C,prediction_svm_C,True)"
   ]
  },
  {
   "cell_type": "code",
   "execution_count": 103,
   "metadata": {},
   "outputs": [],
   "source": [
    "Comprehensive_C = {'prediction_C':prediction_svm_C,'actual_C':y_test_C, 'date_C':date_C}"
   ]
  },
  {
   "cell_type": "code",
   "execution_count": 104,
   "metadata": {},
   "outputs": [],
   "source": [
    "with open('Comprehensive_C.pickle', 'wb') as file:\n",
    "    pickle.dump(Comprehensive_C, file)"
   ]
  },
  {
   "cell_type": "code",
   "execution_count": null,
   "metadata": {},
   "outputs": [],
   "source": []
  }
 ],
 "metadata": {
  "kernelspec": {
   "display_name": "Python 3",
   "language": "python",
   "name": "python3"
  },
  "language_info": {
   "codemirror_mode": {
    "name": "ipython",
    "version": 3
   },
   "file_extension": ".py",
   "mimetype": "text/x-python",
   "name": "python",
   "nbconvert_exporter": "python",
   "pygments_lexer": "ipython3",
   "version": "3.7.3"
  }
 },
 "nbformat": 4,
 "nbformat_minor": 2
}
