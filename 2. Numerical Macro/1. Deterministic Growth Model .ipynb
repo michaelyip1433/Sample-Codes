{
 "cells": [
  {
   "cell_type": "markdown",
   "metadata": {},
   "source": [
    "# Deterministc Growth Model\n",
    "\n",
    "This notebook solves the simplest macro model -- determinist growth model using value function iteration. "
   ]
  },
  {
   "cell_type": "markdown",
   "metadata": {},
   "source": [
    "## Thoery\n",
    "\n",
    "Assume the economy starts with ininial captial ${k_t} > 0$ and that the labour supply is perfectly inelastic, each period $t = 0,1,2,...$ the representative household chooses the amount of consumption $c_t \\geq 0$ and and investment $i_t \\geq 0$ to maximize its lifetime utility \n",
    "\n",
    "\n",
    "$$\n",
    "\\max_{c_t}\n",
    "    \\left\\{\n",
    "    \\sum_{t = 0}^{\\infty} \\beta^t u(c_t)\n",
    "    \\right\\} \\tag{1}\n",
    "$$\n",
    "\n",
    "where $\\beta \\in [0,1]$ is the discount factor. The representative household faces the budget constraint saying that consumption plus investment must not exceed income $y_t$. Assume that $u'(c)>0$, the budget constraint holds in equality, that is\n",
    "\n",
    "$$\n",
    "y_t = c_t + i_t. \\tag{2}\n",
    "$$\n",
    "\n",
    "Define $\\delta \\in [0,1]$ be the depreciation rate. The law of motion of capital is therefore\n",
    "\n",
    "$$\n",
    "k_{t+1} = (1 - \\delta) \\cdot k_t + i_t. \\tag{3}\n",
    "$$\n",
    "\n",
    "The income is solely determined the production function\n",
    "\n",
    "$$\n",
    "y_t = Af(k_t), \\tag{4}\n",
    "$$\n",
    "\n",
    "where $A$ refer to the technology. Rearranging the above equations, the problems becomes\n",
    "\n",
    "$$\n",
    "\\max_{c_t, k_{t+1}}\n",
    "    \\left\\{\n",
    "    \\sum_{t = 0}^{\\infty} \\beta^t u(c_t)\n",
    "    \\right\\} \n",
    "$$\n",
    "\n",
    "$$\n",
    "s.t.      c_t = (1 - \\delta) \\cdot k_t + Af(k_t) - k_{t+1},\n",
    "$$\n",
    "\n",
    "where $k_0$ is given. Further assume that $u''(c)<0$, by the concavity of the objective function and linearity of the constraint we can ensure that there exist a path {$c_t, k_{t+1}$} that solves the maximization problem.\n",
    "\n",
    "Taking $k_{t+1} as the control variable, we can write the Bellman equation\n",
    "\n",
    "$$\n",
    "V(k) = \\max_{k'}\n",
    "    \\left\\{\n",
    "    u[(1 - \\delta) \\cdot k + Af(k) - k'] + \\beta V(k')\n",
    "    \\right\\}.\\tag{5}\n",
    "$$\n",
    "\n",
    "It can be easily found that the Euler Equation is \n",
    "\n",
    "$$ \n",
    "u'(c) = \\beta \\{u'(c')[Af'(k') + (1 - \\delta)\\} \n",
    "$$\n",
    "\n",
    "which says that the marginal benefit of increasing consumption equals the marginal cost."
   ]
  },
  {
   "cell_type": "markdown",
   "metadata": {},
   "source": [
    "## Computation"
   ]
  },
  {
   "cell_type": "code",
   "execution_count": 1,
   "metadata": {},
   "outputs": [],
   "source": [
    "from numba import jit\n",
    "import numpy as np\n",
    "import matplotlib.pyplot as plt\n",
    "%matplotlib inline\n",
    "from quantecon.optimize.scalar_maximization import brent_max\n",
    "from interpolation import interp"
   ]
  },
  {
   "cell_type": "markdown",
   "metadata": {},
   "source": [
    "We start by defining a class that specify parameters, utility and production functions compactly. We also need to specify the state space and the number of grids ```k_size``` so that we can perform grid search over the state space. Note that we have to ensure the state space is not binding."
   ]
  },
  {
   "cell_type": "code",
   "execution_count": 18,
   "metadata": {},
   "outputs": [],
   "source": [
    "class OptimalGrowth:\n",
    "\n",
    "    def __init__(self,\n",
    "                 f,                \n",
    "                 u,                \n",
    "                 β = 0.8,           \n",
    "                 δ = 1,\n",
    "                 A = 4,\n",
    "                 max_k = 2,\n",
    "                 k_size = 1000):\n",
    "        \n",
    "        self.β, self.δ, self.f, self.u = β, δ, f, u\n",
    "        self.k_space = np.linspace(1e-5, max_k, k_size) # Discretize the state space\n",
    "        self.max_k = max_k\n",
    "        self.A = A"
   ]
  },
  {
   "cell_type": "markdown",
   "metadata": {},
   "source": [
    "```operator``` contains the operators we need for this problem, with parameters, utility and production functions specified in ```og```, the class for parameters."
   ]
  },
  {
   "cell_type": "code",
   "execution_count": 19,
   "metadata": {},
   "outputs": [],
   "source": [
    "def operator(og):\n",
    "    \n",
    "    # Unpack the parameters that we specified in the class \"OptimalGrowth\"\n",
    "    f, u, β, δ = og.f, og.u, og.β, og.δ\n",
    "    k_space = og.k_space\n",
    "    A = og.A\n",
    "\n",
    "    # Objective Function -- LHS of the Bellman equation\n",
    "    @jit\n",
    "    def obj(new_k, v, old_k):\n",
    "        val_func = lambda k: interp(k_space, v, k)  # intetpolate v -- the value function\n",
    "        return u((1 - δ) * old_k + f(old_k) * A - new_k) + β * val_func(new_k)\n",
    "\n",
    "    # Bellman Operator\n",
    "    @jit \n",
    "    def Bellman(v):\n",
    "        new_v = np.empty_like(v)\n",
    "        for i in range(len(k_space)):\n",
    "            old_k = k_space[i]\n",
    "            max_v = brent_max(obj, 1e-10, (1 - δ) * old_k + f(old_k) * A, args = (v, old_k))[1]\n",
    "            new_v[i] = max_v\n",
    "        return new_v\n",
    "\n",
    "    # Policy Function\n",
    "    @jit\n",
    "    def policy(v):\n",
    "        p = np.empty_like(v)\n",
    "        for i in range(len(k_space)):\n",
    "            old_k = k_space[i]\n",
    "            p_s = brent_max(obj, 1e-10, (1 - δ) * old_k + f(old_k) * A, args = (v, old_k))[0]\n",
    "            p[i] = p_s\n",
    "        return p\n",
    "    \n",
    "    # A function that can obtain the optimal paths of k, y, c. \n",
    "    def time_path(k,t):\n",
    "        continuous_policy = lambda k: interp(k_space, true_p_func, k) \n",
    "        # \"true_p_func\" is the true policy function -- we need to define it using this exact name later so that the\n",
    "        # function can run\n",
    "        \n",
    "        k_path = [k]\n",
    "        y_path = [f(k) * A]\n",
    "        c_path = []\n",
    "        \n",
    "        # Simulate k, y, c up to time t\n",
    "        for i in range(t):\n",
    "            new_k = continuous_policy(k)\n",
    "            new_y = f(new_k) * A\n",
    "            k_path.append(new_k)\n",
    "            y_path.append(new_y)\n",
    "            c_path.append((1 - δ) * k + f(k) * A - new_k)\n",
    "            k = new_k\n",
    "        \n",
    "        return k_path, y_path, c_path\n",
    "\n",
    "    return Bellman, policy, time_path"
   ]
  },
  {
   "cell_type": "markdown",
   "metadata": {},
   "source": [
    "In this notebook, we take $f(k) = k^\\alpha$, and $ u(c) = \\dfrac {c^{1 - \\gamma}}{1 - \\gamma}$ for $\\gamma \\neq 1$ and $u(c) = log(c)$ for $\\gamma = 1$."
   ]
  },
  {
   "cell_type": "code",
   "execution_count": 20,
   "metadata": {},
   "outputs": [],
   "source": [
    "α = 0.4\n",
    "@jit\n",
    "def f(k):\n",
    "    return k**α"
   ]
  },
  {
   "cell_type": "code",
   "execution_count": 21,
   "metadata": {},
   "outputs": [],
   "source": [
    "γ = 1\n",
    "@jit\n",
    "def u(c):\n",
    "    if γ == 1:\n",
    "        return np.log(c)\n",
    "    else:\n",
    "        return c**(1 - γ) / (1 - γ)"
   ]
  },
  {
   "cell_type": "code",
   "execution_count": 22,
   "metadata": {},
   "outputs": [],
   "source": [
    "og = OptimalGrowth(f = f, u = u)\n",
    "Bellman, policy, time_path = operator(og)\n",
    "\n",
    "# This enables us to use functions \"Bellman\", \"policy\", \"time_path\" for the parameters and specific utility \n",
    "# and production functions we specified in the class \"OptimalGrowth\""
   ]
  },
  {
   "cell_type": "markdown",
   "metadata": {},
   "source": [
    "We now define a function ```iteration``` to iterate the value function until it converges or reaching the maxmimum iterations allowed. "
   ]
  },
  {
   "cell_type": "code",
   "execution_count": 23,
   "metadata": {},
   "outputs": [],
   "source": [
    "def iteration(og, tol = 1e-4, max_iter = 1000):\n",
    "\n",
    "    Bellman, policy, time_path = operator(og)\n",
    "\n",
    "    v = np.ones_like(og.k_space) # initial guess\n",
    "    i = 0\n",
    "    error = tol + 1\n",
    "\n",
    "    while i < max_iter and error > tol:\n",
    "        v_new = Bellman(v)\n",
    "        error = np.max(np.abs(v - v_new))\n",
    "        i += 1\n",
    "        v = v_new\n",
    "\n",
    "    if i == max_iter:\n",
    "        print(\"Failed to converge!\")\n",
    "\n",
    "    return v_new"
   ]
  },
  {
   "cell_type": "markdown",
   "metadata": {},
   "source": [
    "We can obtain the true value function ```true_v_func``` by using the function ```iteration``` and plot it. "
   ]
  },
  {
   "cell_type": "code",
   "execution_count": 24,
   "metadata": {
    "scrolled": true
   },
   "outputs": [],
   "source": [
    "true_v_func = iteration(og)"
   ]
  },
  {
   "cell_type": "code",
   "execution_count": 25,
   "metadata": {},
   "outputs": [
    {
     "data": {
      "image/png": "[encoded data removed]",
      "text/plain": [
       "<Figure size 648x360 with 1 Axes>"
      ]
     },
     "metadata": {
      "needs_background": "light"
     },
     "output_type": "display_data"
    }
   ],
   "source": [
    "k_space = og.k_space\n",
    "fig, ax = plt.subplots(figsize=(9, 5))\n",
    "\n",
    "ax.plot(k_space, true_v_func, lw=2, alpha=0.6, label='Value Function')\n",
    "plt.xlabel('k', size = 'large')\n",
    "\n",
    "ax.legend()\n",
    "plt.show()"
   ]
  },
  {
   "cell_type": "markdown",
   "metadata": {},
   "source": [
    "We can use the operator ```policy``` for the true value function ```true_v_func``` to obtain the policy function."
   ]
  },
  {
   "cell_type": "code",
   "execution_count": 26,
   "metadata": {},
   "outputs": [],
   "source": [
    "true_p_func = policy(true_v_func)"
   ]
  },
  {
   "cell_type": "markdown",
   "metadata": {},
   "source": [
    "We can calculate the steady state capital $k^*$ where $k^* = k_t = k_{t+1}$. Graphical analysis with the 45-degree line and policy function can veerify the answer."
   ]
  },
  {
   "cell_type": "code",
   "execution_count": 27,
   "metadata": {},
   "outputs": [
    {
     "name": "stdout",
     "output_type": "stream",
     "text": [
      "The steady-state capital is 1.509511961961962\n"
     ]
    }
   ],
   "source": [
    "diff = 1e-4\n",
    "ss = None\n",
    "\n",
    "for i,j in zip(k_space, true_p_func):\n",
    "    if np.abs(i - j) < diff:\n",
    "        diff = np.abs(i - j)\n",
    "        ss = i\n",
    "        \n",
    "print(\"The steady-state capital is\", ss)"
   ]
  },
  {
   "cell_type": "code",
   "execution_count": 28,
   "metadata": {},
   "outputs": [
    {
     "data": {
      "image/png": "[encoded data removed]",
      "text/plain": [
       "<Figure size 720x360 with 1 Axes>"
      ]
     },
     "metadata": {
      "needs_background": "light"
     },
     "output_type": "display_data"
    }
   ],
   "source": [
    "fig, ax = plt.subplots(figsize=(10, 5))\n",
    "\n",
    "ax.plot(k_space, true_p_func, 'b', label='Policy function')\n",
    "ax.plot(k_space,k_space, 'k',label = '45 degree line')\n",
    "\n",
    "ax.set_xlim(0, og.max_k)\n",
    "ax.set_ylim(0, og.max_k)\n",
    "\n",
    "plt.axvline(ss, 0, ss/og.max_k, color = 'grey', linestyle =  ':')\n",
    "\n",
    "plt.xticks([ss])\n",
    "\n",
    "plt.xlabel('k', size = 'large')\n",
    "\n",
    "ax.legend()\n",
    "plt.show()"
   ]
  },
  {
   "cell_type": "markdown",
   "metadata": {},
   "source": [
    "Finally, we obtain the optimal path of $c$, $y$, and $k$ by the function ```time_path``` with the initial condition $k_0$. It is observed the capital will remain at $k^*$, again verifying the analysis above."
   ]
  },
  {
   "cell_type": "code",
   "execution_count": 29,
   "metadata": {},
   "outputs": [],
   "source": [
    "k_0 = 0.1\n",
    "max_time = 25\n",
    "k_p, y_p, c_p = time_path(k_0,max_time)"
   ]
  },
  {
   "cell_type": "code",
   "execution_count": 30,
   "metadata": {},
   "outputs": [
    {
     "data": {
      "image/png": "[encoded data removed]",
      "text/plain": [
       "<Figure size 648x360 with 1 Axes>"
      ]
     },
     "metadata": {
      "needs_background": "light"
     },
     "output_type": "display_data"
    }
   ],
   "source": [
    "fig, ax = plt.subplots(figsize=(9, 5))\n",
    "\n",
    "ax.plot(k_p,'b-', label='capital')\n",
    "ax.plot(y_p, 'r-', label='income')\n",
    "ax.plot(c_p, 'g-', label='consumption')\n",
    "plt.xlabel('Time', size = 'large')\n",
    "plt.yticks([ss])\n",
    "plt.axhline(y = ss, color = 'grey', linestyle =  ':')\n",
    "\n",
    "ax.legend()\n",
    "plt.show()"
   ]
  },
  {
   "cell_type": "code",
   "execution_count": null,
   "metadata": {},
   "outputs": [],
   "source": []
  },
  {
   "cell_type": "code",
   "execution_count": null,
   "metadata": {},
   "outputs": [],
   "source": []
  }
 ],
 "metadata": {
  "kernelspec": {
   "display_name": "Python 3",
   "language": "python",
   "name": "python3"
  },
  "language_info": {
   "codemirror_mode": {
    "name": "ipython",
    "version": 3
   },
   "file_extension": ".py",
   "mimetype": "text/x-python",
   "name": "python",
   "nbconvert_exporter": "python",
   "pygments_lexer": "ipython3",
   "version": "3.7.3"
  }
 },
 "nbformat": 4,
 "nbformat_minor": 2
}
