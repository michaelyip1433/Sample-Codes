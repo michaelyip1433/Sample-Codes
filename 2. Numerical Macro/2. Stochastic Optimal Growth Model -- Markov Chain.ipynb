{
 "cells": [
  {
   "cell_type": "markdown",
   "metadata": {},
   "source": [
    "# Stochastic Optimal Growth Model -- Markov Chain\n",
    "\n",
    "This notebook solves the optimal growth model with uncertainty. "
   ]
  },
  {
   "cell_type": "markdown",
   "metadata": {},
   "source": [
    "## Theory\n",
    "\n",
    "The stochastic optimal growth model assumes the same setting as the deterministic growth model solved in the previous notebook. Nevertheless, technology $A_t$, instead of being a constant, is now stochastic, following a two state Markov Chain. $A_t$ can take two possible values: $A_H$ or $A_L$, and its stochasticity can be described by the following transition matrix:\n",
    "\n",
    "\\begin{bmatrix}\n",
    "    p & 1-p \\\\\n",
    "    1-q & q \\\\\n",
    "\\end{bmatrix}\n",
    "\n",
    "where \n",
    "\n",
    "$$ \n",
    "P(A_{t+1} = A_L | A_{t} = A_L) = p\n",
    "$$\n",
    "\n",
    "and \n",
    "\n",
    "$$ \n",
    "P(A_{t+1} = A_H | A_{t} = A_H) = q.\n",
    "$$\n",
    "\n",
    "To numerically solve the stochastic growth model, we can take $A_t$ as another state variable. The Bellman equation becomes\n",
    "\n",
    "$$\n",
    "V(k,A) = \\max_{k'}\n",
    "    \\left\\{\n",
    "    u[(1 - \\delta) \\cdot k + A \\cdot f(k) - k'] + \\beta \\mathbb E[{V(k', A')|A]}\n",
    "    \\right\\}.\\tag{1}\n",
    "$$"
   ]
  },
  {
   "cell_type": "markdown",
   "metadata": {},
   "source": [
    "## Computation"
   ]
  },
  {
   "cell_type": "code",
   "execution_count": 1,
   "metadata": {},
   "outputs": [],
   "source": [
    "import quantecon as qe\n",
    "from numba import jit\n",
    "import numpy as np\n",
    "import matplotlib.pyplot as plt\n",
    "%matplotlib inline\n",
    "from quantecon.optimize.scalar_maximization import brent_max\n",
    "from interpolation import interp"
   ]
  },
  {
   "cell_type": "markdown",
   "metadata": {},
   "source": [
    "We start by specify the values of parameters and functional forms by the class ```StochasticOptimalGrowth```. We also need to specify the state spaces for both $k$ and $A$. As $A_t$ follows a two state Markov Chain, the state space of $A$ only contains $A_H$ and $A_L$. While we do not need to discretize the state space of $A$, and still need to do that for $k$ as usual. "
   ]
  },
  {
   "cell_type": "code",
   "execution_count": 3,
   "metadata": {},
   "outputs": [],
   "source": [
    "class StochasticOptimalGrowth:\n",
    "\n",
    "    def __init__(self,\n",
    "                 f,                \n",
    "                 u,                \n",
    "                 β = 0.8,           \n",
    "                 δ = 1,\n",
    "                 max_k = 2.5,\n",
    "                 k_size = 1000,     # Number of grids for k\n",
    "                 p = 0.9,\n",
    "                 q = 0.7, \n",
    "                 A_L = 3.0,\n",
    "                 A_H = 5.0):\n",
    "        \n",
    "        self.β, self.δ, self.f, self.u = β, δ, f, u \n",
    "        self.max_k = max_k\n",
    "        self.k_space = np.linspace(1e-5, max_k, k_size)   # Discretize the state space\n",
    "        \n",
    "        self.p, self.q, self.A_L, self.A_H = p, q, A_L, A_H  \n",
    "        self.A_space = np.array([A_L, A_H])  # State space of A"
   ]
  },
  {
   "cell_type": "markdown",
   "metadata": {},
   "source": [
    "```operator``` is the same as the that of the deterministic case. However, the objective function now depends on the realization of $A_t$ in the current perios since the expectation $ \\mathbb E[{V(k', A')|A]} $ depends on it. "
   ]
  },
  {
   "cell_type": "code",
   "execution_count": 4,
   "metadata": {},
   "outputs": [],
   "source": [
    "def operator(sog):\n",
    "    \n",
    "    # Unpack the parameters that we specified in the class \"StochasticOptimalGrowth\"\n",
    "    f, u, β, δ = sog.f, sog.u, sog.β, sog.δ\n",
    "    k_space = sog.k_space\n",
    "    \n",
    "    p, q, A_L, A_H = sog.p, sog.q, sog.A_L, sog.A_H\n",
    "    A_space = sog.A_space\n",
    "\n",
    "    # Objective Function -- LHS of the Bellman equation\n",
    "    # It now depends on the realization of A in the current period\n",
    "    @jit\n",
    "    def obj(new_k, v, old_k, A):\n",
    "        val_func = lambda k, A: interp(k_space, A_space, v, (k, A))\n",
    "        \n",
    "        if A == A_L:\n",
    "            return u((1 - δ) * old_k + f(old_k) * A - new_k) + β * (p * val_func(new_k,A_L) + (1 - p) * val_func(new_k,A_H))\n",
    "\n",
    "        \n",
    "        if A == A_H:\n",
    "            return u((1 - δ) * old_k + f(old_k) * A - new_k) + β * ((1 - q) * val_func(new_k,A_L) + q * val_func(new_k,A_H))\n",
    "    \n",
    "    # Bellman Operator\n",
    "    @jit\n",
    "    def Bellman(v):\n",
    "        new_v = np.empty_like(v)\n",
    "        for i in range(len(k_space)):\n",
    "            for j in range(len(A_space)):\n",
    "                old_k = k_space[i]\n",
    "                A = A_space[j]\n",
    "                max_v = brent_max(obj, 1e-10, (1-δ) * old_k + f(old_k) * A, args=(v, old_k, A))[1]\n",
    "                new_v[i,j] = max_v\n",
    "        return new_v\n",
    "\n",
    "    # Policy Function\n",
    "    @jit\n",
    "    def policy(v):\n",
    "        p = np.empty_like(v)\n",
    "        for i in range(len(k_space)):\n",
    "            for j in range (len(A_space)):\n",
    "                old_k = k_space[i]\n",
    "                A = A_space[j]\n",
    "                p_s = brent_max(obj, 1e-10, (1-δ) * old_k + f(old_k) * A, args=(v, old_k, A))[0]\n",
    "                p[i,j] = p_s\n",
    "        return p\n",
    "    \n",
    "    # A function that can obtain the optimal paths of k, y, c. \n",
    "    def time_path(k,t, initial_A):\n",
    "        \n",
    "        continuous_policy = lambda k, A: interp(k_space, A_space, true_p_func, (k,A))\n",
    "        # \"true_p_func\" is the true policy function -- we need to define it using this \n",
    "        # exact name later so that the function can run\n",
    "        \n",
    "        mc = qe.MarkovChain(np.array([[p, 1 - p], [1 - q, q]]))\n",
    "        \n",
    "        if initial_A == A_L:\n",
    "            initial_A = 0\n",
    "        else:\n",
    "            initial_A = 1\n",
    "        \n",
    "        # Realization of A_t in 0 or 1\n",
    "        A_path = mc.simulate(ts_length = t + 1, init = initial_A)\n",
    "        \n",
    "        # Realization of A_t in A_L or A_H\n",
    "        for j in range(len(A_path)):\n",
    "            if A_path[j] == 0:\n",
    "                A_path[j] = A_L\n",
    "            else:\n",
    "                A_path[j] = A_H\n",
    "                \n",
    "        A_path = A_path.astype(float)  \n",
    "        \n",
    "        k_path = [k]\n",
    "        y_path = [f(k) * A_path[0]]\n",
    "        c_path = []\n",
    "        \n",
    "        # Simulate k, y, c up to time t\n",
    "        for i in range(t):\n",
    "            new_k = continuous_policy(k, A_path[i])\n",
    "            new_y = f(new_k) * A_path[i + 1]\n",
    "            k_path.append(new_k)\n",
    "            y_path.append(new_y)\n",
    "            c_path.append((1-δ) * k + f(k) * A_path[i] - new_k)\n",
    "            k = new_k\n",
    "        \n",
    "        return k_path, y_path, c_path\n",
    "\n",
    "    return Bellman, policy, time_path"
   ]
  },
  {
   "cell_type": "markdown",
   "metadata": {},
   "source": [
    "As what we did in the previous notebook, we take $f(k) = k^\\alpha$, and $ u(c) = \\dfrac {c^{1 - \\gamma}}{1 - \\gamma}$ for $\\gamma \\neq 1$ and $u(c) = log(c)$ for $\\gamma = 1$."
   ]
  },
  {
   "cell_type": "code",
   "execution_count": 5,
   "metadata": {},
   "outputs": [],
   "source": [
    "α = 0.4\n",
    "@jit\n",
    "def f(k):\n",
    "    return k**α"
   ]
  },
  {
   "cell_type": "code",
   "execution_count": 6,
   "metadata": {},
   "outputs": [],
   "source": [
    "γ = 1\n",
    "@jit\n",
    "def u(c):\n",
    "    if γ == 1:\n",
    "        return np.log(c)\n",
    "    else:\n",
    "        return c**(1 - γ) / (1 - γ)"
   ]
  },
  {
   "cell_type": "code",
   "execution_count": 7,
   "metadata": {},
   "outputs": [],
   "source": [
    "sog = StochasticOptimalGrowth(f=f, u=u)\n",
    "Bellman, policy, time_path = operator(sog)\n",
    "\n",
    "# This enables us to use functions \"Bellman\", \"policy\", \"time_path\" for the parameters and\n",
    "# specific utility and production functions we specified in the class \"StochasticOptimalGrowth\""
   ]
  },
  {
   "cell_type": "markdown",
   "metadata": {},
   "source": [
    "Define a function ```iteration``` to iterate the value function until it converges or reaching the maxmimum iterations allowed. "
   ]
  },
  {
   "cell_type": "code",
   "execution_count": 9,
   "metadata": {},
   "outputs": [],
   "source": [
    "def iteration(sog,\n",
    "                tol=1e-4,\n",
    "                max_iter=1000):\n",
    "\n",
    "    Bellman, policy, time_path = operator(sog)\n",
    "\n",
    "    v = np.ones(len(sog.k_space) * 2).reshape(len(sog.k_space), 2) \n",
    "    i = 0\n",
    "    error = tol + 1\n",
    "\n",
    "    while i < max_iter and error > tol:\n",
    "        v_new = Bellman(v)\n",
    "        error = np.max(np.abs(v - v_new))\n",
    "        i += 1\n",
    "        v = v_new\n",
    "\n",
    "    if i == max_iter:\n",
    "        print(\"Failed to converge!\")\n",
    "\n",
    "    return v_new"
   ]
  },
  {
   "cell_type": "markdown",
   "metadata": {},
   "source": [
    "We obtain the true value function ```true_v_func``` by the function ```iteration```. We can plot the value functions seperately for $A_L$ and $A_H$. Indeed, each value function is exactly the same as in the deterministic case with $A = A_L$ or $A_H$."
   ]
  },
  {
   "cell_type": "code",
   "execution_count": 10,
   "metadata": {},
   "outputs": [],
   "source": [
    "true_v_func = iteration(sog)"
   ]
  },
  {
   "cell_type": "code",
   "execution_count": 12,
   "metadata": {},
   "outputs": [
    {
     "data": {
      "image/png": "[encoded data removed]",
      "text/plain": [
       "<Figure size 648x360 with 1 Axes>"
      ]
     },
     "metadata": {
      "needs_background": "light"
     },
     "output_type": "display_data"
    }
   ],
   "source": [
    "k_space = sog.k_space\n",
    "fig, ax = plt.subplots(figsize=(9, 5))\n",
    "\n",
    "ax.plot(k_space, true_v_func[:,0], lw=2, alpha=0.6,label='Value Function ($A_L$)')\n",
    "ax.plot(k_space, true_v_func[:,1], lw=2, alpha=0.6,label='Value Function ($A_H$)')\n",
    "plt.xlabel('k', size = 'large')\n",
    "\n",
    "ax.legend()\n",
    "plt.show()"
   ]
  },
  {
   "cell_type": "markdown",
   "metadata": {},
   "source": [
    "Obtain the policy function by ```policy``` and name it ```true_p_func```."
   ]
  },
  {
   "cell_type": "code",
   "execution_count": 13,
   "metadata": {},
   "outputs": [],
   "source": [
    "true_p_func = policy(true_v_func)"
   ]
  },
  {
   "cell_type": "markdown",
   "metadata": {},
   "source": [
    "We can calculate the \"steady states\" of $k_L^*$ and $k_H^*$ for $A_L$ and $A_H$ respectively. They are the steady states when $\\forall t$ $A_t = A_L$ or $A_H$. The graph bwlow verifies this calculation."
   ]
  },
  {
   "cell_type": "code",
   "execution_count": 24,
   "metadata": {},
   "outputs": [
    {
     "name": "stdout",
     "output_type": "stream",
     "text": [
      "The 'small' steady-state capital is 0.9334396996996996\n"
     ]
    }
   ],
   "source": [
    "diff = 1\n",
    "ss__L = None\n",
    "\n",
    "for i,j in zip(k_space, true_p_func[:,0]):\n",
    "    if np.abs(i - j) < diff:\n",
    "        diff = np.abs(i - j)\n",
    "        ss_L = i\n",
    "        \n",
    "print(\"The 'small' steady-state capital is\", ss_L)\n"
   ]
  },
  {
   "cell_type": "code",
   "execution_count": 16,
   "metadata": {},
   "outputs": [
    {
     "name": "stdout",
     "output_type": "stream",
     "text": [
      "The 'big' steady-state capital is 2.1896909309309307\n"
     ]
    }
   ],
   "source": [
    "diff = 1\n",
    "ss_H = None\n",
    "\n",
    "for i,j in zip(k_space,true_p_func[:,1]):\n",
    "    if np.abs(i - j) < diff:\n",
    "        diff = np.abs(i - j)\n",
    "        ss_H = i\n",
    "        \n",
    "print(\"The 'big' steady-state capital is\", ss_H)"
   ]
  },
  {
   "cell_type": "code",
   "execution_count": 17,
   "metadata": {},
   "outputs": [
    {
     "data": {
      "image/png": "[encoded data removed]",
      "text/plain": [
       "<Figure size 720x360 with 1 Axes>"
      ]
     },
     "metadata": {
      "needs_background": "light"
     },
     "output_type": "display_data"
    }
   ],
   "source": [
    "fig, ax = plt.subplots(figsize=(10, 5))\n",
    "\n",
    "ax.plot(k_space, true_p_func[:,0], 'r', label='$A_L$ policy function')\n",
    "ax.plot(k_space, true_p_func[:,1], 'b', label='$A_H$ policy function')\n",
    "ax.plot(k_space,k_space, 'k',label = '45 degree line')\n",
    "\n",
    "ax.set_xlim(0, sog.max_k)\n",
    "ax.set_ylim(0, sog.max_k)\n",
    "\n",
    "plt.axvline(ss_L, 0, ss_L/sog.max_k, color = 'grey', linestyle =  ':')\n",
    "plt.axvline(ss_H, 0, ss_H/sog.max_k, color = 'gray', linestyle = ':')\n",
    "\n",
    "plt.xticks([ss_L, ss_H])\n",
    "\n",
    "plt.xlabel('k', size = 'large')\n",
    "\n",
    "ax.legend()\n",
    "plt.show()"
   ]
  },
  {
   "cell_type": "markdown",
   "metadata": {},
   "source": [
    "We can conjecture that $k_t$ will stay within $k_L^*$ and $k_H^*$ once it enters the interval. Simulating $k_t$ and plot it verify this conjecture. "
   ]
  },
  {
   "cell_type": "code",
   "execution_count": 18,
   "metadata": {
    "scrolled": false
   },
   "outputs": [],
   "source": [
    "k_p, y_p, c_p = time_path(0.1,400,3.0)"
   ]
  },
  {
   "cell_type": "code",
   "execution_count": 21,
   "metadata": {},
   "outputs": [
    {
     "data": {
      "image/png": "[encoded data removed]",
      "text/plain": [
       "<Figure size 720x360 with 1 Axes>"
      ]
     },
     "metadata": {
      "needs_background": "light"
     },
     "output_type": "display_data"
    }
   ],
   "source": [
    "fig, ax = plt.subplots(figsize=(10, 5))\n",
    "\n",
    "ax.plot(k_p,'b-', label='capital')\n",
    "plt.xlabel('Time', size = 'large')\n",
    "\n",
    "ax.set_ylim(0, sog.max_k)\n",
    "\n",
    "plt.axhline(ss_L, color = 'black')\n",
    "plt.axhline(ss_H, color = 'black')\n",
    "\n",
    "plt.yticks([ss_L, ss_H])\n",
    "\n",
    "ax.legend()\n",
    "plt.show()"
   ]
  },
  {
   "cell_type": "code",
   "execution_count": null,
   "metadata": {},
   "outputs": [],
   "source": []
  },
  {
   "cell_type": "code",
   "execution_count": null,
   "metadata": {},
   "outputs": [],
   "source": []
  }
 ],
 "metadata": {
  "kernelspec": {
   "display_name": "Python 3",
   "language": "python",
   "name": "python3"
  },
  "language_info": {
   "codemirror_mode": {
    "name": "ipython",
    "version": 3
   },
   "file_extension": ".py",
   "mimetype": "text/x-python",
   "name": "python",
   "nbconvert_exporter": "python",
   "pygments_lexer": "ipython3",
   "version": "3.7.3"
  }
 },
 "nbformat": 4,
 "nbformat_minor": 2
}
